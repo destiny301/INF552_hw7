{
 "cells": [
  {
   "cell_type": "markdown",
   "metadata": {
    "colab_type": "text",
    "id": "4sE4u6YimyGE"
   },
   "source": [
    "# Tianyi Zhang 9598110243\n",
    "------------------"
   ]
  },
  {
   "cell_type": "markdown",
   "metadata": {
    "colab_type": "text",
    "id": "mX9qQNeQmrtR"
   },
   "source": [
    "## 1. Generative Models for Text"
   ]
  },
  {
   "cell_type": "markdown",
   "metadata": {
    "colab_type": "text",
    "id": "aUQ8tEG-nEVt"
   },
   "source": [
    "### a)"
   ]
  },
  {
   "cell_type": "markdown",
   "metadata": {
    "colab_type": "text",
    "id": "cD1eXSBTnESN"
   },
   "source": [
    "### b)"
   ]
  },
  {
   "cell_type": "markdown",
   "metadata": {
    "colab_type": "text",
    "id": "zkwdzhoxnEO9"
   },
   "source": [
    "### c)"
   ]
  },
  {
   "cell_type": "markdown",
   "metadata": {
    "colab_type": "text",
    "id": "xQKTwkVcnEMJ"
   },
   "source": [
    "#### 1)"
   ]
  },
  {
   "cell_type": "code",
   "execution_count": 1,
   "metadata": {
    "colab": {
     "base_uri": "https://localhost:8080/",
     "height": 72
    },
    "colab_type": "code",
    "id": "CicoRKwVoAx_",
    "outputId": "eda6d10e-53d2-4612-faa9-3e7fad8e9b06"
   },
   "outputs": [],
   "source": [
    "import numpy as np\n",
    "import pandas as pd\n",
    "import seaborn as sns\n",
    "import matplotlib.pyplot as plt\n",
    "import os"
   ]
  },
  {
   "cell_type": "code",
   "execution_count": 2,
   "metadata": {
    "colab": {},
    "colab_type": "code",
    "id": "NDbzckjyoREP"
   },
   "outputs": [],
   "source": [
    "data_folder = '../data/Book Files/books'"
   ]
  },
  {
   "cell_type": "code",
   "execution_count": 3,
   "metadata": {
    "colab": {},
    "colab_type": "code",
    "id": "ZlDbGg6rosIN"
   },
   "outputs": [],
   "source": [
    "files = os.listdir(data_folder)\n",
    "\n",
    "output = open('corpus.txt', 'w')\n",
    "for item in files:\n",
    "    with open(os.path.join(data_folder, item), 'r', encoding='ascii', errors='ignore') as datastream:\n",
    "        for line in datastream:\n",
    "            output.write(line)\n",
    "\n",
    "output.close()"
   ]
  },
  {
   "cell_type": "code",
   "execution_count": 4,
   "metadata": {
    "colab": {
     "base_uri": "https://localhost:8080/",
     "height": 35
    },
    "colab_type": "code",
    "id": "Lt7vClc-osNJ",
    "outputId": "e25aba0b-05c5-4610-b80d-02bb7669c443"
   },
   "outputs": [
    {
     "name": "stdout",
     "output_type": "stream",
     "text": [
      "5095252\n"
     ]
    }
   ],
   "source": [
    "print(len(open('corpus.txt', 'r').read()))"
   ]
  },
  {
   "cell_type": "markdown",
   "metadata": {
    "colab_type": "text",
    "id": "zWBH8CHYnEKg"
   },
   "source": [
    "#### 2)"
   ]
  },
  {
   "cell_type": "code",
   "execution_count": 2,
   "metadata": {
    "colab": {},
    "colab_type": "code",
    "id": "XwjvVb0korRz"
   },
   "outputs": [],
   "source": [
    "from sklearn.preprocessing import MinMaxScaler\n",
    "import string"
   ]
  },
  {
   "cell_type": "code",
   "execution_count": 7,
   "metadata": {
    "colab": {
     "base_uri": "https://localhost:8080/",
     "height": 72
    },
    "colab_type": "code",
    "id": "veqPT1OIorXW",
    "outputId": "9a3317a9-d69b-425e-c5d3-d4fc6566e4c0"
   },
   "outputs": [
    {
     "name": "stdout",
     "output_type": "stream",
     "text": [
      "{'w', 'b', 'l', '3', ' ', 'u', 'z', '7', 'm', '5', 'a', 'h', 'n', 'f', 'x', '6', 'p', 'c', 'q', '8', 'y', '9', 'g', 'v', '0', 'r', 'k', 't', 'i', '\\n', 'o', '1', 'e', '2', 's', '4', 'j', 'd'}\n",
      "38\n"
     ]
    }
   ],
   "source": [
    "corpus = open('corpus.txt', 'r').read()\n",
    "\n",
    "#disregard lowercase and uppercase letters and remove punctuation characters\n",
    "text = corpus.lower()\n",
    "charSet = set(text)\n",
    "\n",
    "charSet = charSet.difference(set(string.punctuation))\n",
    "text = text.translate(str.maketrans('', '', string.punctuation))\n",
    "\n",
    "print(charSet)\n",
    "print(len(charSet))"
   ]
  },
  {
   "cell_type": "code",
   "execution_count": 8,
   "metadata": {
    "colab": {
     "base_uri": "https://localhost:8080/",
     "height": 72
    },
    "colab_type": "code",
    "id": "-Tr63PnN8gh0",
    "outputId": "922e6271-8755-445b-a171-d018bfc8119f"
   },
   "outputs": [
    {
     "name": "stdout",
     "output_type": "stream",
     "text": [
      "[('\\n', 0), (' ', 1), ('0', 2), ('1', 3), ('2', 4), ('3', 5), ('4', 6), ('5', 7), ('6', 8), ('7', 9), ('8', 10), ('9', 11), ('a', 12), ('b', 13), ('c', 14), ('d', 15), ('e', 16), ('f', 17), ('g', 18), ('h', 19), ('i', 20), ('j', 21), ('k', 22), ('l', 23), ('m', 24), ('n', 25), ('o', 26), ('p', 27), ('q', 28), ('r', 29), ('s', 30), ('t', 31), ('u', 32), ('v', 33), ('w', 34), ('x', 35), ('y', 36), ('z', 37)]\n",
      "38\n"
     ]
    }
   ],
   "source": [
    "labels = {}\n",
    "for index, char in enumerate(sorted(charSet)):\n",
    "    labels[char] = index\n",
    "\n",
    "print(sorted(labels.items()))\n",
    "print(len(labels))"
   ]
  },
  {
   "cell_type": "code",
   "execution_count": 9,
   "metadata": {
    "colab": {
     "base_uri": "https://localhost:8080/",
     "height": 72
    },
    "colab_type": "code",
    "id": "SyuO7S0uuRhT",
    "outputId": "c93382f8-5a61-4675-ab29-ac53b841079e"
   },
   "outputs": [
    {
     "name": "stdout",
     "output_type": "stream",
     "text": [
      "[('\\n', 10), (' ', 32), ('0', 48), ('1', 49), ('2', 50), ('3', 51), ('4', 52), ('5', 53), ('6', 54), ('7', 55), ('8', 56), ('9', 57), ('a', 97), ('b', 98), ('c', 99), ('d', 100), ('e', 101), ('f', 102), ('g', 103), ('h', 104), ('i', 105), ('j', 106), ('k', 107), ('l', 108), ('m', 109), ('n', 110), ('o', 111), ('p', 112), ('q', 113), ('r', 114), ('s', 115), ('t', 116), ('u', 117), ('v', 118), ('w', 119), ('x', 120), ('y', 121), ('z', 122)]\n",
      "38\n"
     ]
    }
   ],
   "source": [
    "asciiText = {}\n",
    "for char in charSet:\n",
    "    asciiText[char] = ord(char)\n",
    "\n",
    "print(sorted(asciiText.items()))\n",
    "print(len(asciiText))"
   ]
  },
  {
   "cell_type": "code",
   "execution_count": 10,
   "metadata": {
    "colab": {
     "base_uri": "https://localhost:8080/",
     "height": 72
    },
    "colab_type": "code",
    "id": "XuOGtHgLyPdw",
    "outputId": "1cd4acdb-ec9c-411e-bf5d-9ce132087e06"
   },
   "outputs": [
    {
     "name": "stdout",
     "output_type": "stream",
     "text": [
      "[('\\n', 0.0), (' ', 0.19642857142857142), ('0', 0.3392857142857143), ('1', 0.3482142857142857), ('2', 0.3571428571428571), ('3', 0.3660714285714286), ('4', 0.375), ('5', 0.3839285714285714), ('6', 0.3928571428571428), ('7', 0.4017857142857143), ('8', 0.4107142857142857), ('9', 0.4196428571428571), ('a', 0.7767857142857142), ('b', 0.7857142857142857), ('c', 0.7946428571428571), ('d', 0.8035714285714285), ('e', 0.8124999999999999), ('f', 0.8214285714285714), ('g', 0.8303571428571428), ('h', 0.8392857142857142), ('i', 0.8482142857142857), ('j', 0.8571428571428571), ('k', 0.8660714285714285), ('l', 0.8749999999999999), ('m', 0.8839285714285714), ('n', 0.8928571428571428), ('o', 0.9017857142857142), ('p', 0.9107142857142857), ('q', 0.9196428571428571), ('r', 0.9285714285714285), ('s', 0.9374999999999999), ('t', 0.9464285714285713), ('u', 0.9553571428571427), ('v', 0.9642857142857143), ('w', 0.9732142857142857), ('x', 0.9821428571428571), ('y', 0.9910714285714285), ('z', 0.9999999999999999)]\n",
      "38\n"
     ]
    }
   ],
   "source": [
    "scaledText = {}\n",
    "values = MinMaxScaler().fit_transform(np.array(list(asciiText.values())).reshape(-1, 1))\n",
    "for index in range(len(values)):\n",
    "    scaledText[list(asciiText.keys())[index]] = values[index][0]\n",
    "\n",
    "print(sorted(scaledText.items()))\n",
    "print(len(scaledText))"
   ]
  },
  {
   "cell_type": "markdown",
   "metadata": {
    "colab_type": "text",
    "id": "UdP710iPnEDx"
   },
   "source": [
    "#### 3)"
   ]
  },
  {
   "cell_type": "code",
   "execution_count": 11,
   "metadata": {
    "colab": {},
    "colab_type": "code",
    "id": "jcWXrdPJznl5"
   },
   "outputs": [],
   "source": [
    "w = 100"
   ]
  },
  {
   "cell_type": "markdown",
   "metadata": {
    "colab_type": "text",
    "id": "3xnWH7rknVvF"
   },
   "source": [
    "#### 4)"
   ]
  },
  {
   "cell_type": "code",
   "execution_count": 12,
   "metadata": {
    "colab": {},
    "colab_type": "code",
    "id": "sZwMIp64zqvb"
   },
   "outputs": [],
   "source": [
    "xdata = []\n",
    "ylabel = []\n",
    "\n",
    "for i in range(0, len(text) - w + 1, 1):\n",
    "    data = text[i:i + w - 1]\n",
    "    label = text[i + w - 1]\n",
    "\n",
    "    xdata.append([scaledText[char] for char in data])\n",
    "    ylabel.append(labels[label])"
   ]
  },
  {
   "cell_type": "code",
   "execution_count": 13,
   "metadata": {
    "colab": {
     "base_uri": "https://localhost:8080/",
     "height": 35
    },
    "colab_type": "code",
    "id": "kSeWe-le1zAI",
    "outputId": "998462bc-d275-46c6-9d98-0a04bcc4304a"
   },
   "outputs": [
    {
     "name": "stdout",
     "output_type": "stream",
     "text": [
      "shape of data: (1532603, 99, 1)\n"
     ]
    }
   ],
   "source": [
    "number = len(xdata)\n",
    "x = np.reshape(xdata, (number, w-1, 1))\n",
    "\n",
    "print(\"shape of data:\", x.shape)"
   ]
  },
  {
   "cell_type": "markdown",
   "metadata": {
    "colab_type": "text",
    "id": "zwxNKllenVq6"
   },
   "source": [
    "#### 5)"
   ]
  },
  {
   "cell_type": "code",
   "execution_count": 3,
   "metadata": {
    "colab": {},
    "colab_type": "code",
    "id": "hn0Oxxjp268Y"
   },
   "outputs": [],
   "source": [
    "import tensorflow as tf\n",
    "from tensorflow import keras"
   ]
  },
  {
   "cell_type": "code",
   "execution_count": 15,
   "metadata": {
    "colab": {
     "base_uri": "https://localhost:8080/",
     "height": 35
    },
    "colab_type": "code",
    "id": "OcE-u9c40-3I",
    "outputId": "d082c05b-31a5-49a1-a991-d199f0d43e83"
   },
   "outputs": [
    {
     "name": "stdout",
     "output_type": "stream",
     "text": [
      "shape of label: (1532603, 38)\n"
     ]
    }
   ],
   "source": [
    "y = keras.utils.to_categorical(ylabel, num_classes= 38)\n",
    "\n",
    "print(\"shape of label:\", y.shape)"
   ]
  },
  {
   "cell_type": "markdown",
   "metadata": {
    "colab_type": "text",
    "id": "hZCsgs9RnVS4"
   },
   "source": [
    "#### 6)"
   ]
  },
  {
   "cell_type": "markdown",
   "metadata": {
    "colab_type": "text",
    "id": "o45IUxWC6vyz"
   },
   "source": [
    "#### 7)"
   ]
  },
  {
   "cell_type": "code",
   "execution_count": 16,
   "metadata": {
    "colab": {
     "base_uri": "https://localhost:8080/",
     "height": 225
    },
    "colab_type": "code",
    "id": "G5RIMult3a52",
    "outputId": "63b03446-4e5a-4821-c979-b659cfb84d3c"
   },
   "outputs": [
    {
     "name": "stdout",
     "output_type": "stream",
     "text": [
      "Model: \"sequential\"\n",
      "_________________________________________________________________\n",
      "Layer (type)                 Output Shape              Param #   \n",
      "=================================================================\n",
      "lstm (LSTM)                  (None, 256)               264192    \n",
      "_________________________________________________________________\n",
      "dense (Dense)                (None, 38)                9766      \n",
      "=================================================================\n",
      "Total params: 273,958\n",
      "Trainable params: 273,958\n",
      "Non-trainable params: 0\n",
      "_________________________________________________________________\n"
     ]
    }
   ],
   "source": [
    "model = keras.models.Sequential([\n",
    "    keras.layers.LSTM(256, input_shape=(x.shape[1], x.shape[2])),\n",
    "    keras.layers.Dense(y.shape[1], activation=\"softmax\"),\n",
    "])\n",
    "model.compile(loss='categorical_crossentropy', optimizer=tf.keras.optimizers.Adam(1e-4), metrics=['accuracy'])\n",
    "model.summary()"
   ]
  },
  {
   "cell_type": "markdown",
   "metadata": {
    "colab_type": "text",
    "id": "6bkBpgQbnVLr"
   },
   "source": [
    "#### 8)"
   ]
  },
  {
   "cell_type": "markdown",
   "metadata": {
    "colab_type": "text",
    "id": "Ne7dL-vlnVHY"
   },
   "source": [
    "#### 9)"
   ]
  },
  {
   "cell_type": "code",
   "execution_count": 17,
   "metadata": {
    "colab": {
     "base_uri": "https://localhost:8080/",
     "height": 364
    },
    "colab_type": "code",
    "id": "ImUsVYCQ6tQP",
    "outputId": "aa745969-d88c-4c00-eccd-48bd8148c6b1"
   },
   "outputs": [
    {
     "name": "stdout",
     "output_type": "stream",
     "text": [
      "Epoch 1/10\n",
      "5987/5987 [==============================] - 140s 23ms/step - loss: 2.8210 - accuracy: 0.1900\n",
      "Epoch 2/10\n",
      "5987/5987 [==============================] - 143s 24ms/step - loss: 2.7220 - accuracy: 0.2137\n",
      "Epoch 3/10\n",
      "5987/5987 [==============================] - 143s 24ms/step - loss: 2.7056 - accuracy: 0.2170\n",
      "Epoch 4/10\n",
      "5987/5987 [==============================] - 143s 24ms/step - loss: 2.6918 - accuracy: 0.2191\n",
      "Epoch 5/10\n",
      "5987/5987 [==============================] - 143s 24ms/step - loss: 2.6767 - accuracy: 0.2219\n",
      "Epoch 6/10\n",
      "5987/5987 [==============================] - 143s 24ms/step - loss: 2.6527 - accuracy: 0.2261\n",
      "Epoch 7/10\n",
      "5987/5987 [==============================] - 143s 24ms/step - loss: 2.6275 - accuracy: 0.2334\n",
      "Epoch 8/10\n",
      "5987/5987 [==============================] - 146s 24ms/step - loss: 2.6125 - accuracy: 0.2374\n",
      "Epoch 9/10\n",
      "5987/5987 [==============================] - 145s 24ms/step - loss: 2.5986 - accuracy: 0.2423\n",
      "Epoch 10/10\n",
      "5987/5987 [==============================] - 145s 24ms/step - loss: 2.5862 - accuracy: 0.2462\n"
     ]
    }
   ],
   "source": [
    "checkDir = \"./checkpoint\"\n",
    "if not os.path.exists(checkDir):\n",
    "    os.mkdir(checkDir)\n",
    "    \n",
    "filename = os.path.join(checkDir, '{epoch:02d}.hdf5')\n",
    "checkpoint_callback = keras.callbacks.ModelCheckpoint(\n",
    "    filepath = filename,\n",
    "    monitor='loss',\n",
    "    save_weights_only= True,\n",
    "    mode='min'\n",
    ")\n",
    "\n",
    "history = model.fit(x, y, epochs=10, batch_size=256, callbacks=[checkpoint_callback])"
   ]
  },
  {
   "cell_type": "markdown",
   "metadata": {
    "colab_type": "text",
    "id": "idtBWm2pnni6"
   },
   "source": [
    "#### 10)"
   ]
  },
  {
   "cell_type": "code",
   "execution_count": 18,
   "metadata": {
    "colab": {},
    "colab_type": "code",
    "id": "5cF-BIed88c_"
   },
   "outputs": [],
   "source": [
    "ckname = checkDir +'/10.hdf5'\n",
    "model.load_weights(ckname)\n",
    "model.compile(loss='categorical_crossentropy', optimizer=tf.keras.optimizers.Adam(1e-4))"
   ]
  },
  {
   "cell_type": "markdown",
   "metadata": {
    "colab_type": "text",
    "id": "jUoV4ToUnnf-"
   },
   "source": [
    "#### 11)"
   ]
  },
  {
   "cell_type": "code",
   "execution_count": 19,
   "metadata": {
    "colab": {},
    "colab_type": "code",
    "id": "52Ex2RKu9VBq"
   },
   "outputs": [],
   "source": [
    "text_in = 'There are those who take mental phenomena naively, just as they would physical phenomena. This school of psychologists tends not to emphasize the object.'\n",
    "text = text_in.lower()\n",
    "text = text.translate(str.maketrans('', '', string.punctuation))\n",
    "text_scale = [scaledText[char] for char in text][-99:]"
   ]
  },
  {
   "cell_type": "code",
   "execution_count": 20,
   "metadata": {
    "colab": {},
    "colab_type": "code",
    "id": "l5pvYAtHMJAE"
   },
   "outputs": [],
   "source": [
    "label2Char = {}\n",
    "label2Char = {j:i for i, j in labels.items()}"
   ]
  },
  {
   "cell_type": "code",
   "execution_count": 21,
   "metadata": {
    "colab": {
     "base_uri": "https://localhost:8080/",
     "height": 55
    },
    "colab_type": "code",
    "id": "7GLBmb-z9V6i",
    "outputId": "78e52913-df31-4b91-ec0e-9d15b54d40c2"
   },
   "outputs": [
    {
     "name": "stdout",
     "output_type": "stream",
     "text": [
      "there are those who take mental phenomena naively just as they would physical phenomena this school of psychologists tends not to emphasize the object of the tore th the tore th the tore th the tore th the tore th the tore th the tore th the tore th the tore th the tore th the tore th the tore th the tore th the tore th the tore th the tore th the tore th the tore th the tore th the tore th the tore th the tore th the tore th the tore th the tore th the tore th the tore th the tore th the tore th the tore th the tore th the tore th the tore th the tore th the tore th the tore th the tore th the tore th the tore th the tore th the tore th the tore th the tore th the tore th the tore th the tore th the tore th the tore th the tore th the tore th the tore th the tore th the tore th the tore th the tore th the tore th the tore th the tore th the tore th the tore th the tore th the tore th the tore th the tore th the tore th the tore th the tore th the tore th the tore th the tore th the tore th the tore th the tore th the tore th the tore th the tore th the tore th the tore th the tore th the tore th the tore th the tore th the tore th \n"
     ]
    }
   ],
   "source": [
    "for _ in range(1000):\n",
    "    data = np.reshape(text_scale, (1, len(text_scale), 1))\n",
    "    prediction = model.predict(data)\n",
    "    char = label2Char[np.argmax(prediction)]\n",
    "\n",
    "    text += char\n",
    "    text_scale.append(scaledText[char])\n",
    "    text_scale = text_scale[1:len(text_scale)]\n",
    "    \n",
    "print(text)"
   ]
  },
  {
   "cell_type": "markdown",
   "metadata": {
    "colab_type": "text",
    "id": "xT3Hb-gtnnd7"
   },
   "source": [
    "#### 12)"
   ]
  },
  {
   "cell_type": "markdown",
   "metadata": {
    "colab_type": "text",
    "id": "h6s2w4Mfnna4"
   },
   "source": [
    "#### 13)"
   ]
  },
  {
   "cell_type": "markdown",
   "metadata": {
    "colab_type": "text",
    "id": "MsomiNkdnnXX"
   },
   "source": [
    "## 2. (Deep) CNNs for Image Colorization"
   ]
  },
  {
   "cell_type": "markdown",
   "metadata": {
    "colab_type": "text",
    "id": "7PIZYs2dnzyl"
   },
   "source": [
    "### a)\n"
   ]
  },
  {
   "cell_type": "code",
   "execution_count": 4,
   "metadata": {
    "colab": {},
    "colab_type": "code",
    "id": "NQZifT0VRNuu"
   },
   "outputs": [],
   "source": [
    "cifar10 = keras.datasets.cifar10"
   ]
  },
  {
   "cell_type": "markdown",
   "metadata": {
    "colab_type": "text",
    "id": "M5Q8sBiynzti"
   },
   "source": [
    "### b)"
   ]
  },
  {
   "cell_type": "code",
   "execution_count": 5,
   "metadata": {
    "colab": {
     "base_uri": "https://localhost:8080/",
     "height": 121
    },
    "colab_type": "code",
    "id": "3X-IPo5bRqJE",
    "outputId": "40d3b536-d361-4b46-b942-a452cd2b26dc"
   },
   "outputs": [
    {
     "name": "stdout",
     "output_type": "stream",
     "text": [
      "Downloading data from https://www.cs.toronto.edu/~kriz/cifar-10-python.tar.gz\n",
      "170500096/170498071 [==============================] - 6s 0us/step\n",
      "For all data:\n",
      "-----------------\n",
      "shape of training data: (50000, 32, 32, 3) (50000, 1)\n",
      "shape of test data: (10000, 32, 32, 3) (10000, 1)\n"
     ]
    }
   ],
   "source": [
    "(xtr, ytr), (xte, yte) = cifar10.load_data()\n",
    "print(\"For all data:\")\n",
    "print(\"-----------------\")\n",
    "print(\"shape of training data:\", xtr.shape, ytr.shape)\n",
    "print(\"shape of test data:\", xte.shape, yte.shape)"
   ]
  },
  {
   "cell_type": "code",
   "execution_count": 6,
   "metadata": {
    "colab": {
     "base_uri": "https://localhost:8080/",
     "height": 87
    },
    "colab_type": "code",
    "id": "HPE2LKDKRyYM",
    "outputId": "2b92556b-0c46-48ac-9bdf-ada656df187b"
   },
   "outputs": [
    {
     "name": "stdout",
     "output_type": "stream",
     "text": [
      "For class birds:\n",
      "-----------------\n",
      "shape of training data: (5000, 32, 32, 3) (5000,)\n",
      "shape of test data: (1000, 32, 32, 3) (1000,)\n"
     ]
    }
   ],
   "source": [
    "xtrain = xtr.reshape(-1, 32*32*3)\n",
    "ytrain = ytr.reshape(-1)\n",
    "xtest = xte.reshape(-1, 32*32*3)\n",
    "ytest = yte.reshape(-1)\n",
    "\n",
    "xtr = xtrain[ytrain == 2].reshape(-1, 32, 32, 3)\n",
    "ytr = ytrain[ytrain == 2]\n",
    "xte = xtest[ytest == 2].reshape(-1, 32, 32, 3)\n",
    "yte = ytest[ytest == 2]\n",
    "\n",
    "print(\"For class birds:\")\n",
    "print(\"-----------------\")\n",
    "print(\"shape of training data:\", xtr.shape, ytr.shape)\n",
    "print(\"shape of test data:\", xte.shape, yte.shape)"
   ]
  },
  {
   "cell_type": "markdown",
   "metadata": {
    "colab_type": "text",
    "id": "qIIbIP4qnzo4"
   },
   "source": [
    "### c)"
   ]
  },
  {
   "cell_type": "code",
   "execution_count": 7,
   "metadata": {
    "colab": {
     "base_uri": "https://localhost:8080/",
     "height": 52
    },
    "colab_type": "code",
    "id": "4T8rG2f2TnqX",
    "outputId": "e8a34899-aab5-47c8-af7a-a8c2f4e0ff4f"
   },
   "outputs": [
    {
     "name": "stdout",
     "output_type": "stream",
     "text": [
      "shape of data: (6000, 32, 32, 3)\n",
      "shape of label: (6000,)\n"
     ]
    }
   ],
   "source": [
    "#choose all pixels\n",
    "x = np.concatenate((xtr, xte))\n",
    "y = np.concatenate((ytr, yte))\n",
    "\n",
    "print(\"shape of data:\", x.shape)\n",
    "print(\"shape of label:\", y.shape)"
   ]
  },
  {
   "cell_type": "code",
   "execution_count": 8,
   "metadata": {
    "colab": {},
    "colab_type": "code",
    "id": "-hgWwFbo2cCw"
   },
   "outputs": [],
   "source": [
    "pixels = x.reshape(-1, 3)"
   ]
  },
  {
   "cell_type": "markdown",
   "metadata": {
    "colab_type": "text",
    "id": "z66eb-XrnzSv"
   },
   "source": [
    "### d)"
   ]
  },
  {
   "cell_type": "code",
   "execution_count": 9,
   "metadata": {
    "colab": {},
    "colab_type": "code",
    "id": "0-isc1bdUzRC"
   },
   "outputs": [],
   "source": [
    "from sklearn.cluster import KMeans"
   ]
  },
  {
   "cell_type": "code",
   "execution_count": 10,
   "metadata": {
    "colab": {},
    "colab_type": "code",
    "id": "C2jIJcIiU3hn"
   },
   "outputs": [],
   "source": [
    "kmeans = KMeans(n_clusters=4, n_init=10).fit(pixels)\n",
    "center = kmeans.cluster_centers_\n",
    "\n",
    "prediction = kmeans.labels_"
   ]
  },
  {
   "cell_type": "code",
   "execution_count": 11,
   "metadata": {
    "colab": {},
    "colab_type": "code",
    "id": "qz9zcB_mU599"
   },
   "outputs": [],
   "source": [
    "x_convert = np.array([center[prediction[i]] for i in range(len(pixels))], dtype=np.uint8).reshape(-1, 32, 32, 3)"
   ]
  },
  {
   "cell_type": "code",
   "execution_count": 12,
   "metadata": {
    "colab": {
     "base_uri": "https://localhost:8080/",
     "height": 318
    },
    "colab_type": "code",
    "id": "Lz8HagMU4cu7",
    "outputId": "2013945e-c784-4634-fa7c-27fb72dd257e"
   },
   "outputs": [
    {
     "name": "stdout",
     "output_type": "stream",
     "text": [
      "original image:\n",
      "-----------------\n"
     ]
    },
    {
     "data": {
      "text/plain": [
       "<matplotlib.image.AxesImage at 0x7fc42911def0>"
      ]
     },
     "execution_count": 12,
     "metadata": {
      "tags": []
     },
     "output_type": "execute_result"
    },
    {
     "data": {
      "image/png": "[encoded data removed]",
      "text/plain": [
       "<Figure size 432x288 with 1 Axes>"
      ]
     },
     "metadata": {
      "needs_background": "light",
      "tags": []
     },
     "output_type": "display_data"
    }
   ],
   "source": [
    "print(\"original image:\")\n",
    "print(\"-----------------\")\n",
    "plt.imshow(x[200])"
   ]
  },
  {
   "cell_type": "code",
   "execution_count": 13,
   "metadata": {
    "colab": {
     "base_uri": "https://localhost:8080/",
     "height": 318
    },
    "colab_type": "code",
    "id": "hVBLnqW-4X5Y",
    "outputId": "207f4efc-ec52-4b13-df50-bf725d279c8e"
   },
   "outputs": [
    {
     "name": "stdout",
     "output_type": "stream",
     "text": [
      "converted image:\n",
      "-----------------\n"
     ]
    },
    {
     "data": {
      "text/plain": [
       "<matplotlib.image.AxesImage at 0x7fc446c063c8>"
      ]
     },
     "execution_count": 13,
     "metadata": {
      "tags": []
     },
     "output_type": "execute_result"
    },
    {
     "data": {
      "image/png": "[encoded data removed]",
      "text/plain": [
       "<Figure size 432x288 with 1 Axes>"
      ]
     },
     "metadata": {
      "needs_background": "light",
      "tags": []
     },
     "output_type": "display_data"
    }
   ],
   "source": [
    "print(\"converted image:\")\n",
    "print(\"-----------------\")\n",
    "plt.imshow(x_convert[200])"
   ]
  },
  {
   "cell_type": "code",
   "execution_count": 14,
   "metadata": {
    "colab": {
     "base_uri": "https://localhost:8080/",
     "height": 318
    },
    "colab_type": "code",
    "id": "DHA82-owU-Qt",
    "outputId": "1bf2feda-6fa9-4e65-aa69-134d0b31796d"
   },
   "outputs": [
    {
     "name": "stdout",
     "output_type": "stream",
     "text": [
      "colorful image:\n",
      "-----------------\n"
     ]
    },
    {
     "data": {
      "text/plain": [
       "<matplotlib.image.AxesImage at 0x7fc446bf0278>"
      ]
     },
     "execution_count": 14,
     "metadata": {
      "tags": []
     },
     "output_type": "execute_result"
    },
    {
     "data": {
      "image/png": "[encoded data removed]",
      "text/plain": [
       "<Figure size 432x288 with 1 Axes>"
      ]
     },
     "metadata": {
      "needs_background": "light",
      "tags": []
     },
     "output_type": "display_data"
    }
   ],
   "source": [
    "color = np.array([\n",
    "    [0,0,128],\n",
    "    [230,25,75],\n",
    "    [170,255,195],\n",
    "    [255,255,255]], dtype=np.uint8)\n",
    "\n",
    "x_colorful = np.array([color[prediction[i]] for i in range(len(pixels))], dtype=np.uint8).reshape(-1, 32, 32, 3)\n",
    "\n",
    "print(\"colorful image:\")\n",
    "print(\"-----------------\")\n",
    "plt.imshow(x_colorful[200])"
   ]
  },
  {
   "cell_type": "markdown",
   "metadata": {
    "colab_type": "text",
    "id": "I-7kZTNGnzPC"
   },
   "source": [
    "### e)"
   ]
  },
  {
   "cell_type": "code",
   "execution_count": 15,
   "metadata": {
    "colab": {},
    "colab_type": "code",
    "id": "EsGDZ9PQ5N7x"
   },
   "outputs": [],
   "source": [
    "from skimage.color import rgb2gray"
   ]
  },
  {
   "cell_type": "code",
   "execution_count": 16,
   "metadata": {
    "colab": {
     "base_uri": "https://localhost:8080/",
     "height": 318
    },
    "colab_type": "code",
    "id": "kVapPk6S5cM4",
    "outputId": "81066464-076a-4639-f1e9-ace92eaffdc1"
   },
   "outputs": [
    {
     "name": "stdout",
     "output_type": "stream",
     "text": [
      "grayscale image:\n",
      "-----------------\n"
     ]
    },
    {
     "data": {
      "text/plain": [
       "<matplotlib.image.AxesImage at 0x7fc446938cc0>"
      ]
     },
     "execution_count": 16,
     "metadata": {
      "tags": []
     },
     "output_type": "execute_result"
    },
    {
     "data": {
      "image/png": "[encoded data removed]",
      "text/plain": [
       "<Figure size 432x288 with 1 Axes>"
      ]
     },
     "metadata": {
      "needs_background": "light",
      "tags": []
     },
     "output_type": "display_data"
    }
   ],
   "source": [
    "x_gray = np.array([rgb2gray(x[i]) for i in range(len(x))])\n",
    "\n",
    "print(\"grayscale image:\")\n",
    "print(\"-----------------\")\n",
    "plt.imshow(x_gray[200], cmap=plt.cm.gray)"
   ]
  },
  {
   "cell_type": "markdown",
   "metadata": {
    "colab_type": "text",
    "id": "D9YYSHCEnzLe"
   },
   "source": [
    "### f)"
   ]
  },
  {
   "cell_type": "code",
   "execution_count": 17,
   "metadata": {
    "colab": {},
    "colab_type": "code",
    "id": "Vh4VM11R7Cx-"
   },
   "outputs": [],
   "source": [
    "from sklearn.preprocessing import OneHotEncoder\n",
    "from sklearn.model_selection import train_test_split"
   ]
  },
  {
   "cell_type": "code",
   "execution_count": 18,
   "metadata": {
    "colab": {},
    "colab_type": "code",
    "id": "1CKGdzwj7CtX"
   },
   "outputs": [],
   "source": [
    "encoder = OneHotEncoder(handle_unknown='ignore')\n",
    "\n",
    "label_real = [[0], [1], [2], [3]]\n",
    "encoder.fit(label_real)\n",
    "label_onehot = encoder.transform(prediction.reshape(-1, 1)).toarray().astype(int).reshape(-1, 32, 32, 4)\n",
    "xtr, xte, ytr, yte = train_test_split(x_gray.reshape(-1, 32, 32, 1), label_onehot, test_size=0.2)"
   ]
  },
  {
   "cell_type": "code",
   "execution_count": 19,
   "metadata": {
    "colab": {
     "base_uri": "https://localhost:8080/",
     "height": 52
    },
    "colab_type": "code",
    "id": "ojGNc34n7Cmq",
    "outputId": "b17cf774-58ab-401c-bb88-4a42fbbdb847"
   },
   "outputs": [
    {
     "name": "stdout",
     "output_type": "stream",
     "text": [
      "shape of traning data: (4800, 32, 32, 1) (4800, 32, 32, 4)\n",
      "shape of test data: (1200, 32, 32, 1) (1200, 32, 32, 4)\n"
     ]
    }
   ],
   "source": [
    "print(\"shape of traning data:\", xtr.shape, ytr.shape)\n",
    "print(\"shape of test data:\", xte.shape, yte.shape)"
   ]
  },
  {
   "cell_type": "code",
   "execution_count": 20,
   "metadata": {
    "colab": {},
    "colab_type": "code",
    "id": "eltT-0sF9TqN"
   },
   "outputs": [],
   "source": [
    "from tensorflow.keras import layers\n",
    "from tensorflow.keras import models\n",
    "from tensorflow.keras import optimizers"
   ]
  },
  {
   "cell_type": "code",
   "execution_count": 24,
   "metadata": {
    "colab": {},
    "colab_type": "code",
    "id": "r7oWmwaw9Khh"
   },
   "outputs": [],
   "source": [
    "model = models.Sequential()\n",
    "\n",
    "model.add(layers.Conv2D(filters=64, kernel_size=(5,5), strides=(1, 1), padding='same', input_shape=(32,32,1)))\n",
    "model.add(layers.MaxPooling2D(pool_size=(2, 2), strides=(1, 1), padding='same'))\n",
    "\n",
    "model.add(layers.Conv2D(filters=64, kernel_size=(5,5), strides=(1, 1), padding='same', activation='relu'))\n",
    "model.add(layers.MaxPooling2D(pool_size=(2, 2), strides=(1, 1), padding='same'))\n",
    "\n",
    "model.add(layers.Dense(32, activation=\"relu\"))\n",
    "model.add(layers.Dense(4, activation=\"softmax\"))"
   ]
  },
  {
   "cell_type": "code",
   "execution_count": 25,
   "metadata": {
    "colab": {
     "base_uri": "https://localhost:8080/",
     "height": 364
    },
    "colab_type": "code",
    "id": "WCc2pkEq8Orq",
    "outputId": "6413f8b5-d74d-4e2e-9b00-342c4926810b"
   },
   "outputs": [
    {
     "name": "stdout",
     "output_type": "stream",
     "text": [
      "Model: \"sequential_1\"\n",
      "_________________________________________________________________\n",
      "Layer (type)                 Output Shape              Param #   \n",
      "=================================================================\n",
      "conv2d_2 (Conv2D)            (None, 32, 32, 64)        1664      \n",
      "_________________________________________________________________\n",
      "max_pooling2d_2 (MaxPooling2 (None, 32, 32, 64)        0         \n",
      "_________________________________________________________________\n",
      "conv2d_3 (Conv2D)            (None, 32, 32, 64)        102464    \n",
      "_________________________________________________________________\n",
      "max_pooling2d_3 (MaxPooling2 (None, 32, 32, 64)        0         \n",
      "_________________________________________________________________\n",
      "dense_2 (Dense)              (None, 32, 32, 32)        2080      \n",
      "_________________________________________________________________\n",
      "dense_3 (Dense)              (None, 32, 32, 4)         132       \n",
      "=================================================================\n",
      "Total params: 106,340\n",
      "Trainable params: 106,340\n",
      "Non-trainable params: 0\n",
      "_________________________________________________________________\n"
     ]
    }
   ],
   "source": [
    "model.compile(optimizer=optimizers.SGD(0.001), loss='categorical_crossentropy', metrics=[\"accuracy\"])\n",
    "model.summary()"
   ]
  },
  {
   "cell_type": "code",
   "execution_count": 26,
   "metadata": {
    "colab": {
     "base_uri": "https://localhost:8080/",
     "height": 1000
    },
    "colab_type": "code",
    "id": "MR8Qjzpz_upJ",
    "outputId": "93f00db4-db1e-453a-d958-3561ea241d63"
   },
   "outputs": [
    {
     "name": "stdout",
     "output_type": "stream",
     "text": [
      "Epoch 1/30\n",
      "150/150 [==============================] - 3s 23ms/step - loss: 1.3764 - accuracy: 0.3167 - val_loss: 1.3617 - val_accuracy: 0.3327\n",
      "Epoch 2/30\n",
      "150/150 [==============================] - 3s 21ms/step - loss: 1.3518 - accuracy: 0.3382 - val_loss: 1.3446 - val_accuracy: 0.3305\n",
      "Epoch 3/30\n",
      "150/150 [==============================] - 3s 21ms/step - loss: 1.3357 - accuracy: 0.3368 - val_loss: 1.3304 - val_accuracy: 0.3296\n",
      "Epoch 4/30\n",
      "150/150 [==============================] - 3s 21ms/step - loss: 1.3220 - accuracy: 0.3367 - val_loss: 1.3172 - val_accuracy: 0.3298\n",
      "Epoch 5/30\n",
      "150/150 [==============================] - 3s 21ms/step - loss: 1.3085 - accuracy: 0.3395 - val_loss: 1.3031 - val_accuracy: 0.3379\n",
      "Epoch 6/30\n",
      "150/150 [==============================] - 3s 21ms/step - loss: 1.2937 - accuracy: 0.3556 - val_loss: 1.2878 - val_accuracy: 0.3752\n",
      "Epoch 7/30\n",
      "150/150 [==============================] - 3s 21ms/step - loss: 1.2781 - accuracy: 0.4090 - val_loss: 1.2712 - val_accuracy: 0.4530\n",
      "Epoch 8/30\n",
      "150/150 [==============================] - 3s 21ms/step - loss: 1.2611 - accuracy: 0.4655 - val_loss: 1.2530 - val_accuracy: 0.4691\n",
      "Epoch 9/30\n",
      "150/150 [==============================] - 3s 21ms/step - loss: 1.2429 - accuracy: 0.4830 - val_loss: 1.2340 - val_accuracy: 0.4843\n",
      "Epoch 10/30\n",
      "150/150 [==============================] - 3s 21ms/step - loss: 1.2237 - accuracy: 0.4997 - val_loss: 1.2137 - val_accuracy: 0.5062\n",
      "Epoch 11/30\n",
      "150/150 [==============================] - 3s 21ms/step - loss: 1.2027 - accuracy: 0.5225 - val_loss: 1.1916 - val_accuracy: 0.5312\n",
      "Epoch 12/30\n",
      "150/150 [==============================] - 3s 21ms/step - loss: 1.1798 - accuracy: 0.5506 - val_loss: 1.1675 - val_accuracy: 0.5567\n",
      "Epoch 13/30\n",
      "150/150 [==============================] - 3s 21ms/step - loss: 1.1549 - accuracy: 0.5745 - val_loss: 1.1410 - val_accuracy: 0.5889\n",
      "Epoch 14/30\n",
      "150/150 [==============================] - 3s 21ms/step - loss: 1.1278 - accuracy: 0.6047 - val_loss: 1.1127 - val_accuracy: 0.6128\n",
      "Epoch 15/30\n",
      "150/150 [==============================] - 3s 21ms/step - loss: 1.0986 - accuracy: 0.6293 - val_loss: 1.0816 - val_accuracy: 0.6400\n",
      "Epoch 16/30\n",
      "150/150 [==============================] - 3s 21ms/step - loss: 1.0673 - accuracy: 0.6501 - val_loss: 1.0494 - val_accuracy: 0.6630\n",
      "Epoch 17/30\n",
      "150/150 [==============================] - 3s 21ms/step - loss: 1.0344 - accuracy: 0.6719 - val_loss: 1.0151 - val_accuracy: 0.6771\n",
      "Epoch 18/30\n",
      "150/150 [==============================] - 3s 21ms/step - loss: 1.0004 - accuracy: 0.6855 - val_loss: 0.9804 - val_accuracy: 0.6929\n",
      "Epoch 19/30\n",
      "150/150 [==============================] - 3s 21ms/step - loss: 0.9660 - accuracy: 0.6978 - val_loss: 0.9462 - val_accuracy: 0.7012\n",
      "Epoch 20/30\n",
      "150/150 [==============================] - 3s 21ms/step - loss: 0.9320 - accuracy: 0.7048 - val_loss: 0.9126 - val_accuracy: 0.7088\n",
      "Epoch 21/30\n",
      "150/150 [==============================] - 3s 21ms/step - loss: 0.8990 - accuracy: 0.7113 - val_loss: 0.8802 - val_accuracy: 0.7133\n",
      "Epoch 22/30\n",
      "150/150 [==============================] - 3s 21ms/step - loss: 0.8676 - accuracy: 0.7154 - val_loss: 0.8499 - val_accuracy: 0.7164\n",
      "Epoch 23/30\n",
      "150/150 [==============================] - 3s 21ms/step - loss: 0.8384 - accuracy: 0.7188 - val_loss: 0.8219 - val_accuracy: 0.7197\n",
      "Epoch 24/30\n",
      "150/150 [==============================] - 3s 21ms/step - loss: 0.8114 - accuracy: 0.7220 - val_loss: 0.7967 - val_accuracy: 0.7211\n",
      "Epoch 25/30\n",
      "150/150 [==============================] - 3s 21ms/step - loss: 0.7869 - accuracy: 0.7241 - val_loss: 0.7732 - val_accuracy: 0.7242\n",
      "Epoch 26/30\n",
      "150/150 [==============================] - 3s 21ms/step - loss: 0.7650 - accuracy: 0.7262 - val_loss: 0.7526 - val_accuracy: 0.7263\n",
      "Epoch 27/30\n",
      "150/150 [==============================] - 3s 21ms/step - loss: 0.7455 - accuracy: 0.7282 - val_loss: 0.7346 - val_accuracy: 0.7277\n",
      "Epoch 28/30\n",
      "150/150 [==============================] - 3s 21ms/step - loss: 0.7280 - accuracy: 0.7300 - val_loss: 0.7180 - val_accuracy: 0.7298\n",
      "Epoch 29/30\n",
      "150/150 [==============================] - 3s 21ms/step - loss: 0.7125 - accuracy: 0.7317 - val_loss: 0.7041 - val_accuracy: 0.7307\n",
      "Epoch 30/30\n",
      "150/150 [==============================] - 3s 21ms/step - loss: 0.6986 - accuracy: 0.7337 - val_loss: 0.6920 - val_accuracy: 0.7311\n"
     ]
    }
   ],
   "source": [
    "results = model.fit(xtr, ytr, epochs=30, validation_data=(xte, yte))"
   ]
  },
  {
   "cell_type": "code",
   "execution_count": 27,
   "metadata": {
    "colab": {
     "base_uri": "https://localhost:8080/",
     "height": 280
    },
    "colab_type": "code",
    "id": "lGi5jmYpAGV4",
    "outputId": "fa155aa0-7cbe-4b66-fd1a-0c4e2018fbce"
   },
   "outputs": [
    {
     "data": {
      "image/png": "[encoded data removed]",
      "text/plain": [
       "<Figure size 432x288 with 1 Axes>"
      ]
     },
     "metadata": {
      "needs_background": "light",
      "tags": []
     },
     "output_type": "display_data"
    }
   ],
   "source": [
    "loss = results.history['loss']\n",
    "val_loss = results.history['val_loss']\n",
    "acc = results.history['accuracy']\n",
    "val_acc = results.history['val_accuracy']\n",
    "\n",
    "epochs = np.arange(len(loss))\n",
    "\n",
    "\n",
    "plt.figure()\n",
    "plt.plot(epochs, loss, label='loss')\n",
    "plt.plot(epochs, val_loss, label='val_loss')\n",
    "plt.xlabel('epochs')\n",
    "plt.ylabel('Cross Entropy Loss')\n",
    "plt.legend()\n",
    "plt.show()"
   ]
  },
  {
   "cell_type": "code",
   "execution_count": 28,
   "metadata": {
    "colab": {},
    "colab_type": "code",
    "id": "QZ5OSxRjC0ld"
   },
   "outputs": [],
   "source": [
    "prediction = model.predict(xte)\n",
    "prediction = prediction.reshape(xte.shape[0] * 32 * 32, 4)\n",
    "\n",
    "image_out = []\n",
    "for index in range(len(prediction)):\n",
    "    image_out.append([int(color) for color in center[np.argmax(prediction[index])]])\n",
    "    \n",
    "image_out = np.reshape(image_out, (-1, 32, 32, 3))"
   ]
  },
  {
   "cell_type": "code",
   "execution_count": 36,
   "metadata": {
    "colab": {
     "base_uri": "https://localhost:8080/",
     "height": 1000
    },
    "colab_type": "code",
    "id": "OMk5v-reC6I9",
    "outputId": "5a6ca4c8-4f87-42af-c961-e22351de299a"
   },
   "outputs": [
    {
     "data": {
      "image/png": "[encoded data removed]",
      "text/plain": [
       "<Figure size 432x2160 with 20 Axes>"
      ]
     },
     "metadata": {
      "needs_background": "light",
      "tags": []
     },
     "output_type": "display_data"
    }
   ],
   "source": [
    "fig, axes = plt.subplots(10, 2, figsize=(6, 30))\n",
    "ax = axes.ravel()\n",
    "\n",
    "for i in range(10):\n",
    "  ax[2*i].imshow(xte.reshape(-1,32,32)[i], cmap=plt.cm.gray)\n",
    "  ax[2*i+1].imshow(image_out[i])\n",
    "\n",
    "ax[0].set_title(\"grayscale_input\")\n",
    "ax[1].set_title(\"Colored_output\")\n",
    "\n",
    "plt.show()"
   ]
  },
  {
   "cell_type": "markdown",
   "metadata": {
    "colab_type": "text",
    "id": "PwKJ90NLn8RX"
   },
   "source": [
    "### g)"
   ]
  },
  {
   "cell_type": "code",
   "execution_count": null,
   "metadata": {
    "colab": {},
    "colab_type": "code",
    "id": "dA-90wQEnAKb"
   },
   "outputs": [],
   "source": []
  }
 ],
 "metadata": {
  "accelerator": "GPU",
  "colab": {
   "collapsed_sections": [],
   "name": "Tianyi_Zhang_inf552_hw7.ipynb",
   "provenance": []
  },
  "kernelspec": {
   "display_name": "Python 3",
   "language": "python",
   "name": "python3"
  },
  "language_info": {
   "codemirror_mode": {
    "name": "ipython",
    "version": 3
   },
   "file_extension": ".py",
   "mimetype": "text/x-python",
   "name": "python",
   "nbconvert_exporter": "python",
   "pygments_lexer": "ipython3",
   "version": "3.7.4"
  }
 },
 "nbformat": 4,
 "nbformat_minor": 1
}
