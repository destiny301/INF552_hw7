{
 "cells": [
  {
   "cell_type": "markdown",
   "metadata": {
    "colab_type": "text",
    "id": "4sE4u6YimyGE"
   },
   "source": [
    "# Tianyi Zhang 9598110243\n",
    "------------------"
   ]
  },
  {
   "cell_type": "markdown",
   "metadata": {
    "colab_type": "text",
    "id": "mX9qQNeQmrtR"
   },
   "source": [
    "## 1. Generative Models for Text"
   ]
  },
  {
   "cell_type": "markdown",
   "metadata": {
    "colab_type": "text",
    "id": "aUQ8tEG-nEVt"
   },
   "source": [
    "### a)"
   ]
  },
  {
   "cell_type": "markdown",
   "metadata": {
    "colab_type": "text",
    "id": "cD1eXSBTnESN"
   },
   "source": [
    "### b)"
   ]
  },
  {
   "cell_type": "markdown",
   "metadata": {
    "colab_type": "text",
    "id": "zkwdzhoxnEO9"
   },
   "source": [
    "### c)"
   ]
  },
  {
   "cell_type": "markdown",
   "metadata": {
    "colab_type": "text",
    "id": "xQKTwkVcnEMJ"
   },
   "source": [
    "#### 1)"
   ]
  },
  {
   "cell_type": "code",
   "execution_count": 1,
   "metadata": {
    "colab": {
     "base_uri": "https://localhost:8080/",
     "height": 72
    },
    "colab_type": "code",
    "id": "CicoRKwVoAx_",
    "outputId": "7f089854-9ff1-480d-bbc3-06fad66c7b6d"
   },
   "outputs": [],
   "source": [
    "import numpy as np\n",
    "import pandas as pd\n",
    "import seaborn as sns\n",
    "import matplotlib.pyplot as plt\n",
    "import os"
   ]
  },
  {
   "cell_type": "code",
   "execution_count": 2,
   "metadata": {
    "colab": {},
    "colab_type": "code",
    "id": "NDbzckjyoREP"
   },
   "outputs": [],
   "source": [
    "data_folder = '../data/Book Files/books'"
   ]
  },
  {
   "cell_type": "markdown",
   "metadata": {
    "colab_type": "text",
    "id": "oWt4wsk4QFsk"
   },
   "source": [
    "**Because of the restrictions of Google Colab, I just chose the first 4 books(TPP, TAM, MLOE, and OKEWFSMP) to train the model actually.**"
   ]
  },
  {
   "cell_type": "code",
   "execution_count": 3,
   "metadata": {
    "colab": {},
    "colab_type": "code",
    "id": "ZlDbGg6rosIN"
   },
   "outputs": [],
   "source": [
    "files = os.listdir(data_folder)\n",
    "\n",
    "output = open('corpus.txt', 'w')\n",
    "for item in files:\n",
    "    with open(os.path.join(data_folder, item), 'r', encoding='ascii', errors='ignore') as datastream:\n",
    "        for line in datastream:\n",
    "            output.write(line)\n",
    "\n",
    "output.close()"
   ]
  },
  {
   "cell_type": "code",
   "execution_count": 4,
   "metadata": {
    "colab": {
     "base_uri": "https://localhost:8080/",
     "height": 35
    },
    "colab_type": "code",
    "id": "Lt7vClc-osNJ",
    "outputId": "deb0d7cf-a753-41e7-dc9b-3e9c93917ca7"
   },
   "outputs": [
    {
     "name": "stdout",
     "output_type": "stream",
     "text": [
      "5095252\n"
     ]
    }
   ],
   "source": [
    "print(len(open('corpus.txt', 'r').read()))"
   ]
  },
  {
   "cell_type": "markdown",
   "metadata": {
    "colab_type": "text",
    "id": "zWBH8CHYnEKg"
   },
   "source": [
    "#### 2)"
   ]
  },
  {
   "cell_type": "code",
   "execution_count": 6,
   "metadata": {
    "colab": {},
    "colab_type": "code",
    "id": "XwjvVb0korRz"
   },
   "outputs": [],
   "source": [
    "from sklearn.preprocessing import MinMaxScaler\n",
    "import string"
   ]
  },
  {
   "cell_type": "code",
   "execution_count": 7,
   "metadata": {
    "colab": {
     "base_uri": "https://localhost:8080/",
     "height": 72
    },
    "colab_type": "code",
    "id": "veqPT1OIorXW",
    "outputId": "03af5f94-b589-49f3-9665-d1b2d498e39d"
   },
   "outputs": [
    {
     "name": "stdout",
     "output_type": "stream",
     "text": [
      "{'2', 'o', '0', ' ', 'g', 'f', 'i', 't', '5', 'm', '6', 'l', 's', 'a', 'x', 'w', '8', 'v', 'd', 'h', '7', 'u', '3', '9', 'n', 'c', '4', 'z', 'y', 'b', '1', 'p', 'q', 'r', '\\n', 'j', 'k', 'e'}\n",
      "38\n"
     ]
    }
   ],
   "source": [
    "corpus = open('corpus.txt', 'r').read()\n",
    "\n",
    "#disregard lowercase and uppercase letters and remove punctuation characters\n",
    "text = corpus.lower()\n",
    "charSet = set(text)\n",
    "\n",
    "charSet = charSet.difference(set(string.punctuation))\n",
    "text = text.translate(str.maketrans('', '', string.punctuation))\n",
    "\n",
    "print(charSet)\n",
    "print(len(charSet))"
   ]
  },
  {
   "cell_type": "code",
   "execution_count": 8,
   "metadata": {
    "colab": {
     "base_uri": "https://localhost:8080/",
     "height": 72
    },
    "colab_type": "code",
    "id": "-Tr63PnN8gh0",
    "outputId": "bb558f1a-1c4b-4b64-9cb2-03d047e69ed6"
   },
   "outputs": [
    {
     "name": "stdout",
     "output_type": "stream",
     "text": [
      "[('\\n', 0), (' ', 1), ('0', 2), ('1', 3), ('2', 4), ('3', 5), ('4', 6), ('5', 7), ('6', 8), ('7', 9), ('8', 10), ('9', 11), ('a', 12), ('b', 13), ('c', 14), ('d', 15), ('e', 16), ('f', 17), ('g', 18), ('h', 19), ('i', 20), ('j', 21), ('k', 22), ('l', 23), ('m', 24), ('n', 25), ('o', 26), ('p', 27), ('q', 28), ('r', 29), ('s', 30), ('t', 31), ('u', 32), ('v', 33), ('w', 34), ('x', 35), ('y', 36), ('z', 37)]\n",
      "38\n"
     ]
    }
   ],
   "source": [
    "labels = {}\n",
    "for index, char in enumerate(sorted(charSet)):\n",
    "    labels[char] = index\n",
    "\n",
    "print(sorted(labels.items()))\n",
    "print(len(labels))"
   ]
  },
  {
   "cell_type": "code",
   "execution_count": 9,
   "metadata": {
    "colab": {
     "base_uri": "https://localhost:8080/",
     "height": 72
    },
    "colab_type": "code",
    "id": "SyuO7S0uuRhT",
    "outputId": "9227b5dc-f63a-48ce-b5ac-27a29e24957c"
   },
   "outputs": [
    {
     "name": "stdout",
     "output_type": "stream",
     "text": [
      "[('\\n', 10), (' ', 32), ('0', 48), ('1', 49), ('2', 50), ('3', 51), ('4', 52), ('5', 53), ('6', 54), ('7', 55), ('8', 56), ('9', 57), ('a', 97), ('b', 98), ('c', 99), ('d', 100), ('e', 101), ('f', 102), ('g', 103), ('h', 104), ('i', 105), ('j', 106), ('k', 107), ('l', 108), ('m', 109), ('n', 110), ('o', 111), ('p', 112), ('q', 113), ('r', 114), ('s', 115), ('t', 116), ('u', 117), ('v', 118), ('w', 119), ('x', 120), ('y', 121), ('z', 122)]\n",
      "38\n"
     ]
    }
   ],
   "source": [
    "asciiText = {}\n",
    "for char in charSet:\n",
    "    asciiText[char] = ord(char)\n",
    "\n",
    "print(sorted(asciiText.items()))\n",
    "print(len(asciiText))"
   ]
  },
  {
   "cell_type": "code",
   "execution_count": 10,
   "metadata": {
    "colab": {
     "base_uri": "https://localhost:8080/",
     "height": 72
    },
    "colab_type": "code",
    "id": "XuOGtHgLyPdw",
    "outputId": "59c81d0f-787b-4fb1-959a-e4486a9f94a2"
   },
   "outputs": [
    {
     "name": "stdout",
     "output_type": "stream",
     "text": [
      "[('\\n', 0.0), (' ', 0.19642857142857142), ('0', 0.3392857142857143), ('1', 0.3482142857142857), ('2', 0.3571428571428571), ('3', 0.3660714285714286), ('4', 0.375), ('5', 0.3839285714285714), ('6', 0.3928571428571428), ('7', 0.4017857142857143), ('8', 0.4107142857142857), ('9', 0.4196428571428571), ('a', 0.7767857142857142), ('b', 0.7857142857142857), ('c', 0.7946428571428571), ('d', 0.8035714285714285), ('e', 0.8124999999999999), ('f', 0.8214285714285714), ('g', 0.8303571428571428), ('h', 0.8392857142857142), ('i', 0.8482142857142857), ('j', 0.8571428571428571), ('k', 0.8660714285714285), ('l', 0.8749999999999999), ('m', 0.8839285714285714), ('n', 0.8928571428571428), ('o', 0.9017857142857142), ('p', 0.9107142857142857), ('q', 0.9196428571428571), ('r', 0.9285714285714285), ('s', 0.9374999999999999), ('t', 0.9464285714285713), ('u', 0.9553571428571427), ('v', 0.9642857142857143), ('w', 0.9732142857142857), ('x', 0.9821428571428571), ('y', 0.9910714285714285), ('z', 0.9999999999999999)]\n",
      "38\n"
     ]
    }
   ],
   "source": [
    "scaledText = {}\n",
    "values = MinMaxScaler().fit_transform(np.array(list(asciiText.values())).reshape(-1, 1))\n",
    "for index in range(len(values)):\n",
    "    scaledText[list(asciiText.keys())[index]] = values[index][0]\n",
    "\n",
    "print(sorted(scaledText.items()))\n",
    "print(len(scaledText))"
   ]
  },
  {
   "cell_type": "markdown",
   "metadata": {
    "colab_type": "text",
    "id": "UdP710iPnEDx"
   },
   "source": [
    "#### 3)"
   ]
  },
  {
   "cell_type": "code",
   "execution_count": 11,
   "metadata": {
    "colab": {},
    "colab_type": "code",
    "id": "jcWXrdPJznl5"
   },
   "outputs": [],
   "source": [
    "w = 100"
   ]
  },
  {
   "cell_type": "markdown",
   "metadata": {
    "colab_type": "text",
    "id": "3xnWH7rknVvF"
   },
   "source": [
    "#### 4)"
   ]
  },
  {
   "cell_type": "code",
   "execution_count": 12,
   "metadata": {
    "colab": {},
    "colab_type": "code",
    "id": "sZwMIp64zqvb"
   },
   "outputs": [],
   "source": [
    "xdata = []\n",
    "ylabel = []\n",
    "\n",
    "for i in range(0, len(text) - w + 1, 1):\n",
    "    data = text[i:i + w - 1]\n",
    "    label = text[i + w - 1]\n",
    "\n",
    "    xdata.append([scaledText[char] for char in data])\n",
    "    ylabel.append(labels[label])"
   ]
  },
  {
   "cell_type": "code",
   "execution_count": 13,
   "metadata": {
    "colab": {
     "base_uri": "https://localhost:8080/",
     "height": 35
    },
    "colab_type": "code",
    "id": "kSeWe-le1zAI",
    "outputId": "ddea47cb-77d9-414f-b0f7-d021458eddf2"
   },
   "outputs": [
    {
     "name": "stdout",
     "output_type": "stream",
     "text": [
      "shape of data: (1532603, 99, 1)\n"
     ]
    }
   ],
   "source": [
    "number = len(xdata)\n",
    "x = np.reshape(xdata, (number, w-1, 1))\n",
    "\n",
    "print(\"shape of data:\", x.shape)"
   ]
  },
  {
   "cell_type": "markdown",
   "metadata": {
    "colab_type": "text",
    "id": "zwxNKllenVq6"
   },
   "source": [
    "#### 5)"
   ]
  },
  {
   "cell_type": "code",
   "execution_count": 14,
   "metadata": {
    "colab": {},
    "colab_type": "code",
    "id": "hn0Oxxjp268Y"
   },
   "outputs": [],
   "source": [
    "import tensorflow as tf\n",
    "from tensorflow import keras"
   ]
  },
  {
   "cell_type": "code",
   "execution_count": 15,
   "metadata": {
    "colab": {
     "base_uri": "https://localhost:8080/",
     "height": 35
    },
    "colab_type": "code",
    "id": "OcE-u9c40-3I",
    "outputId": "e1bb03c7-65c2-431a-c97d-ff93da3308a9"
   },
   "outputs": [
    {
     "name": "stdout",
     "output_type": "stream",
     "text": [
      "shape of label: (1532603, 38)\n"
     ]
    }
   ],
   "source": [
    "y = keras.utils.to_categorical(ylabel, num_classes= 38)\n",
    "\n",
    "print(\"shape of label:\", y.shape)"
   ]
  },
  {
   "cell_type": "markdown",
   "metadata": {
    "colab_type": "text",
    "id": "hZCsgs9RnVS4"
   },
   "source": [
    "#### 6)"
   ]
  },
  {
   "cell_type": "markdown",
   "metadata": {
    "colab_type": "text",
    "id": "o45IUxWC6vyz"
   },
   "source": [
    "#### 7)"
   ]
  },
  {
   "cell_type": "code",
   "execution_count": 17,
   "metadata": {
    "colab": {
     "base_uri": "https://localhost:8080/",
     "height": 225
    },
    "colab_type": "code",
    "id": "G5RIMult3a52",
    "outputId": "91d74d79-a903-4270-e22c-cbc7a01a5e0e"
   },
   "outputs": [
    {
     "name": "stdout",
     "output_type": "stream",
     "text": [
      "Model: \"sequential\"\n",
      "_________________________________________________________________\n",
      "Layer (type)                 Output Shape              Param #   \n",
      "=================================================================\n",
      "lstm (LSTM)                  (None, 256)               264192    \n",
      "_________________________________________________________________\n",
      "dense (Dense)                (None, 38)                9766      \n",
      "=================================================================\n",
      "Total params: 273,958\n",
      "Trainable params: 273,958\n",
      "Non-trainable params: 0\n",
      "_________________________________________________________________\n"
     ]
    }
   ],
   "source": [
    "model = keras.models.Sequential([\n",
    "    keras.layers.LSTM(256, input_shape=(x.shape[1], x.shape[2])),\n",
    "    keras.layers.Dense(y.shape[1], activation=\"softmax\"),\n",
    "])\n",
    "model.compile(loss='categorical_crossentropy', optimizer=tf.keras.optimizers.Adam(1e-4), metrics=['accuracy'])\n",
    "model.summary()"
   ]
  },
  {
   "cell_type": "markdown",
   "metadata": {
    "colab_type": "text",
    "id": "6bkBpgQbnVLr"
   },
   "source": [
    "#### 8)"
   ]
  },
  {
   "cell_type": "markdown",
   "metadata": {
    "colab_type": "text",
    "id": "Ne7dL-vlnVHY"
   },
   "source": [
    "#### 9)"
   ]
  },
  {
   "cell_type": "code",
   "execution_count": 18,
   "metadata": {
    "colab": {
     "base_uri": "https://localhost:8080/",
     "height": 1000
    },
    "colab_type": "code",
    "id": "ImUsVYCQ6tQP",
    "outputId": "cf99e351-da02-4050-8a18-b82f09c083ee"
   },
   "outputs": [
    {
     "name": "stdout",
     "output_type": "stream",
     "text": [
      "Epoch 1/30\n",
      "5987/5987 [==============================] - 322s 54ms/step - loss: 2.8081 - accuracy: 0.1936\n",
      "Epoch 2/30\n",
      "5987/5987 [==============================] - 322s 54ms/step - loss: 2.7183 - accuracy: 0.2138\n",
      "Epoch 3/30\n",
      "5987/5987 [==============================] - 320s 54ms/step - loss: 2.7032 - accuracy: 0.2166\n",
      "Epoch 4/30\n",
      "5987/5987 [==============================] - 320s 53ms/step - loss: 2.6913 - accuracy: 0.2186\n",
      "Epoch 5/30\n",
      "5987/5987 [==============================] - 321s 54ms/step - loss: 2.6763 - accuracy: 0.2215\n",
      "Epoch 6/30\n",
      "5987/5987 [==============================] - 319s 53ms/step - loss: 2.6558 - accuracy: 0.2249\n",
      "Epoch 7/30\n",
      "5987/5987 [==============================] - 320s 53ms/step - loss: 2.6238 - accuracy: 0.2341\n",
      "Epoch 8/30\n",
      "5987/5987 [==============================] - 320s 53ms/step - loss: 2.6080 - accuracy: 0.2388\n",
      "Epoch 9/30\n",
      "5987/5987 [==============================] - 320s 54ms/step - loss: 2.5943 - accuracy: 0.2424\n",
      "Epoch 10/30\n",
      "5987/5987 [==============================] - 321s 54ms/step - loss: 2.5814 - accuracy: 0.2460\n",
      "Epoch 11/30\n",
      "5987/5987 [==============================] - 322s 54ms/step - loss: 2.5689 - accuracy: 0.2487\n",
      "Epoch 12/30\n",
      "5987/5987 [==============================] - 321s 54ms/step - loss: 2.5565 - accuracy: 0.2520\n",
      "Epoch 13/30\n",
      "5987/5987 [==============================] - 321s 54ms/step - loss: 2.5442 - accuracy: 0.2553\n",
      "Epoch 14/30\n",
      "5987/5987 [==============================] - 321s 54ms/step - loss: 2.5319 - accuracy: 0.2588\n",
      "Epoch 15/30\n",
      "5987/5987 [==============================] - 321s 54ms/step - loss: 2.5198 - accuracy: 0.2622\n",
      "Epoch 16/30\n",
      "5987/5987 [==============================] - 321s 54ms/step - loss: 2.5078 - accuracy: 0.2657\n",
      "Epoch 17/30\n",
      "5987/5987 [==============================] - 321s 54ms/step - loss: 2.4960 - accuracy: 0.2693\n",
      "Epoch 18/30\n",
      "5987/5987 [==============================] - 322s 54ms/step - loss: 2.4838 - accuracy: 0.2728\n",
      "Epoch 19/30\n",
      "5987/5987 [==============================] - 322s 54ms/step - loss: 2.4717 - accuracy: 0.2760\n",
      "Epoch 20/30\n",
      "5987/5987 [==============================] - 322s 54ms/step - loss: 2.4594 - accuracy: 0.2793\n",
      "Epoch 21/30\n",
      "5987/5987 [==============================] - 321s 54ms/step - loss: 2.4474 - accuracy: 0.2830\n",
      "Epoch 22/30\n",
      "5987/5987 [==============================] - 321s 54ms/step - loss: 2.4356 - accuracy: 0.2863\n",
      "Epoch 23/30\n",
      "5987/5987 [==============================] - 321s 54ms/step - loss: 2.4240 - accuracy: 0.2894\n",
      "Epoch 24/30\n",
      "5987/5987 [==============================] - 320s 54ms/step - loss: 2.4125 - accuracy: 0.2923\n",
      "Epoch 25/30\n",
      "5987/5987 [==============================] - 321s 54ms/step - loss: 2.4014 - accuracy: 0.2955\n",
      "Epoch 26/30\n",
      "5987/5987 [==============================] - 322s 54ms/step - loss: 2.3903 - accuracy: 0.2984\n",
      "Epoch 27/30\n",
      "5987/5987 [==============================] - 322s 54ms/step - loss: 2.3794 - accuracy: 0.3014\n",
      "Epoch 28/30\n",
      "5987/5987 [==============================] - 321s 54ms/step - loss: 2.3687 - accuracy: 0.3046\n",
      "Epoch 29/30\n",
      "5987/5987 [==============================] - 322s 54ms/step - loss: 2.3582 - accuracy: 0.3080\n",
      "Epoch 30/30\n",
      "5987/5987 [==============================] - 322s 54ms/step - loss: 2.3479 - accuracy: 0.3111\n"
     ]
    }
   ],
   "source": [
    "checkDir = \"./checkpoint\"\n",
    "if not os.path.exists(checkDir):\n",
    "    os.mkdir(checkDir)\n",
    "    \n",
    "filename = os.path.join(checkDir, '{epoch:02d}.hdf5')\n",
    "checkpoint_callback = keras.callbacks.ModelCheckpoint(\n",
    "    filepath = filename,\n",
    "    monitor='loss',\n",
    "    save_weights_only= True,\n",
    "    mode='min'\n",
    ")\n",
    "\n",
    "history = model.fit(x, y, epochs=30, batch_size=256, callbacks=[checkpoint_callback])"
   ]
  },
  {
   "cell_type": "markdown",
   "metadata": {
    "colab_type": "text",
    "id": "idtBWm2pnni6"
   },
   "source": [
    "#### 10)"
   ]
  },
  {
   "cell_type": "code",
   "execution_count": 19,
   "metadata": {
    "colab": {},
    "colab_type": "code",
    "id": "5cF-BIed88c_"
   },
   "outputs": [],
   "source": [
    "ckname = checkDir +'/30.hdf5'\n",
    "model.load_weights(ckname)\n",
    "model.compile(loss='categorical_crossentropy', optimizer=tf.keras.optimizers.Adam(1e-4))"
   ]
  },
  {
   "cell_type": "markdown",
   "metadata": {
    "colab_type": "text",
    "id": "jUoV4ToUnnf-"
   },
   "source": [
    "#### 11)"
   ]
  },
  {
   "cell_type": "code",
   "execution_count": 20,
   "metadata": {
    "colab": {},
    "colab_type": "code",
    "id": "52Ex2RKu9VBq"
   },
   "outputs": [],
   "source": [
    "text_in = 'There are those who take mental phenomena naively, just as they would physical phenomena. This school of psychologists tends not to emphasize the object.'\n",
    "text = text_in.lower()\n",
    "text = text.translate(str.maketrans('', '', string.punctuation))\n",
    "text_scale = [scaledText[char] for char in text][-99:]"
   ]
  },
  {
   "cell_type": "code",
   "execution_count": 21,
   "metadata": {
    "colab": {},
    "colab_type": "code",
    "id": "l5pvYAtHMJAE"
   },
   "outputs": [],
   "source": [
    "label2Char = {}\n",
    "label2Char = {j:i for i, j in labels.items()}"
   ]
  },
  {
   "cell_type": "code",
   "execution_count": 22,
   "metadata": {
    "colab": {
     "base_uri": "https://localhost:8080/",
     "height": 332
    },
    "colab_type": "code",
    "id": "7GLBmb-z9V6i",
    "outputId": "4c97e37c-9d03-41b2-a359-9dbc625d3a5e"
   },
   "outputs": [
    {
     "name": "stdout",
     "output_type": "stream",
     "text": [
      "there are those who take mental phenomena naively just as they would physical phenomena this school of psychologists tends not to emphasize the object\n",
      "of the soree of the sereeis of the soree of the sereet of the soele\n",
      "of the soree of the soree of the soree of the soree of the sereet of\n",
      "the soree of the soree of the soree of the soree of the sereet of\n",
      "the soree of the soree of the soree of the soree of the sereet of\n",
      "the soree of the soree of the soree of the soree of the sereet of\n",
      "the soree of the soree of the soree of the soree of the sereet of\n",
      "the soree of the soree of the soree of the soree of the sereet of\n",
      "the soree of the soree of the soree of the soree of the sereet of\n",
      "the soree of the soree of the soree of the soree of the sereet of\n",
      "the soree of the soree of the soree of the soree of the sereet of\n",
      "the soree of the soree of the soree of the soree of the sereet of\n",
      "the soree of the soree of the soree of the soree of the sereet of\n",
      "the soree of the soree of the soree of the soree of the sereet of\n",
      "the soree of the soree of the soree of the soree of the sereet of\n",
      "the soree of the soree of the soree of the soree of the sereet of\n",
      "the \n"
     ]
    }
   ],
   "source": [
    "for _ in range(1000):\n",
    "    data = np.reshape(text_scale, (1, len(text_scale), 1))\n",
    "    prediction = model.predict(data)\n",
    "    char = label2Char[np.argmax(prediction)]\n",
    "\n",
    "    text += char\n",
    "    text_scale.append(scaledText[char])\n",
    "    text_scale = text_scale[1:len(text_scale)]\n",
    "    \n",
    "print(text)"
   ]
  },
  {
   "cell_type": "markdown",
   "metadata": {
    "colab_type": "text",
    "id": "xT3Hb-gtnnd7"
   },
   "source": [
    "#### 12)"
   ]
  },
  {
   "cell_type": "markdown",
   "metadata": {
    "colab_type": "text",
    "id": "h6s2w4Mfnna4"
   },
   "source": [
    "#### 13)"
   ]
  },
  {
   "cell_type": "markdown",
   "metadata": {
    "colab_type": "text",
    "id": "MsomiNkdnnXX"
   },
   "source": [
    "## 2. (Deep) CNNs for Image Colorization"
   ]
  },
  {
   "cell_type": "markdown",
   "metadata": {
    "colab_type": "text",
    "id": "7PIZYs2dnzyl"
   },
   "source": [
    "### a)\n"
   ]
  },
  {
   "cell_type": "code",
   "execution_count": 23,
   "metadata": {
    "colab": {},
    "colab_type": "code",
    "id": "NQZifT0VRNuu"
   },
   "outputs": [],
   "source": [
    "cifar10 = keras.datasets.cifar10"
   ]
  },
  {
   "cell_type": "markdown",
   "metadata": {
    "colab_type": "text",
    "id": "M5Q8sBiynzti"
   },
   "source": [
    "### b)"
   ]
  },
  {
   "cell_type": "code",
   "execution_count": 24,
   "metadata": {
    "colab": {
     "base_uri": "https://localhost:8080/",
     "height": 121
    },
    "colab_type": "code",
    "id": "3X-IPo5bRqJE",
    "outputId": "856913c4-0e08-4860-dddb-b9f4c3682801"
   },
   "outputs": [
    {
     "name": "stdout",
     "output_type": "stream",
     "text": [
      "Downloading data from https://www.cs.toronto.edu/~kriz/cifar-10-python.tar.gz\n",
      "170500096/170498071 [==============================] - 11s 0us/step\n",
      "For all data:\n",
      "-----------------\n",
      "shape of training data: (50000, 32, 32, 3) (50000, 1)\n",
      "shape of test data: (10000, 32, 32, 3) (10000, 1)\n"
     ]
    }
   ],
   "source": [
    "(xtr, ytr), (xte, yte) = cifar10.load_data()\n",
    "print(\"For all data:\")\n",
    "print(\"-----------------\")\n",
    "print(\"shape of training data:\", xtr.shape, ytr.shape)\n",
    "print(\"shape of test data:\", xte.shape, yte.shape)"
   ]
  },
  {
   "cell_type": "code",
   "execution_count": 25,
   "metadata": {
    "colab": {
     "base_uri": "https://localhost:8080/",
     "height": 87
    },
    "colab_type": "code",
    "id": "HPE2LKDKRyYM",
    "outputId": "c8bca352-0d6f-40d4-c564-ec42c0139058"
   },
   "outputs": [
    {
     "name": "stdout",
     "output_type": "stream",
     "text": [
      "For class birds:\n",
      "-----------------\n",
      "shape of training data: (5000, 32, 32, 3) (5000,)\n",
      "shape of test data: (1000, 32, 32, 3) (1000,)\n"
     ]
    }
   ],
   "source": [
    "xtrain = xtr.reshape(-1, 32*32*3)\n",
    "ytrain = ytr.reshape(-1)\n",
    "xtest = xte.reshape(-1, 32*32*3)\n",
    "ytest = yte.reshape(-1)\n",
    "\n",
    "xtr = xtrain[ytrain == 2].reshape(-1, 32, 32, 3)\n",
    "ytr = ytrain[ytrain == 2]\n",
    "xte = xtest[ytest == 2].reshape(-1, 32, 32, 3)\n",
    "yte = ytest[ytest == 2]\n",
    "\n",
    "print(\"For class birds:\")\n",
    "print(\"-----------------\")\n",
    "print(\"shape of training data:\", xtr.shape, ytr.shape)\n",
    "print(\"shape of test data:\", xte.shape, yte.shape)"
   ]
  },
  {
   "cell_type": "markdown",
   "metadata": {
    "colab_type": "text",
    "id": "qIIbIP4qnzo4"
   },
   "source": [
    "### c)"
   ]
  },
  {
   "cell_type": "code",
   "execution_count": 26,
   "metadata": {
    "colab": {
     "base_uri": "https://localhost:8080/",
     "height": 52
    },
    "colab_type": "code",
    "id": "4T8rG2f2TnqX",
    "outputId": "50ca87b9-bae9-480e-9acd-51ca8425483d"
   },
   "outputs": [
    {
     "name": "stdout",
     "output_type": "stream",
     "text": [
      "shape of data: (6000, 32, 32, 3)\n",
      "shape of label: (6000,)\n"
     ]
    }
   ],
   "source": [
    "#choose all pixels\n",
    "x = np.concatenate((xtr, xte))\n",
    "y = np.concatenate((ytr, yte))\n",
    "\n",
    "print(\"shape of data:\", x.shape)\n",
    "print(\"shape of label:\", y.shape)"
   ]
  },
  {
   "cell_type": "code",
   "execution_count": 27,
   "metadata": {
    "colab": {},
    "colab_type": "code",
    "id": "-hgWwFbo2cCw"
   },
   "outputs": [],
   "source": [
    "pixels = x.reshape(-1, 3)"
   ]
  },
  {
   "cell_type": "markdown",
   "metadata": {
    "colab_type": "text",
    "id": "z66eb-XrnzSv"
   },
   "source": [
    "### d)"
   ]
  },
  {
   "cell_type": "code",
   "execution_count": 28,
   "metadata": {
    "colab": {},
    "colab_type": "code",
    "id": "0-isc1bdUzRC"
   },
   "outputs": [],
   "source": [
    "from sklearn.cluster import KMeans"
   ]
  },
  {
   "cell_type": "code",
   "execution_count": 29,
   "metadata": {
    "colab": {},
    "colab_type": "code",
    "id": "C2jIJcIiU3hn"
   },
   "outputs": [],
   "source": [
    "kmeans = KMeans(n_clusters=4, n_init=10).fit(pixels)\n",
    "center = kmeans.cluster_centers_\n",
    "\n",
    "prediction = kmeans.labels_"
   ]
  },
  {
   "cell_type": "code",
   "execution_count": 30,
   "metadata": {
    "colab": {},
    "colab_type": "code",
    "id": "qz9zcB_mU599"
   },
   "outputs": [],
   "source": [
    "x_convert = np.array([center[prediction[i]] for i in range(len(pixels))], dtype=np.uint8).reshape(-1, 32, 32, 3)"
   ]
  },
  {
   "cell_type": "code",
   "execution_count": 31,
   "metadata": {
    "colab": {
     "base_uri": "https://localhost:8080/",
     "height": 318
    },
    "colab_type": "code",
    "id": "Lz8HagMU4cu7",
    "outputId": "a6a30ee0-885f-4093-b58b-1a4016c7f50d"
   },
   "outputs": [
    {
     "name": "stdout",
     "output_type": "stream",
     "text": [
      "original image:\n",
      "-----------------\n"
     ]
    },
    {
     "data": {
      "text/plain": [
       "<matplotlib.image.AxesImage at 0x7feb6543ef60>"
      ]
     },
     "execution_count": 31,
     "metadata": {
      "tags": []
     },
     "output_type": "execute_result"
    },
    {
     "data": {
      "image/png": "[encoded data removed]",
      "text/plain": [
       "<Figure size 432x288 with 1 Axes>"
      ]
     },
     "metadata": {
      "needs_background": "light",
      "tags": []
     },
     "output_type": "display_data"
    }
   ],
   "source": [
    "print(\"original image:\")\n",
    "print(\"-----------------\")\n",
    "plt.imshow(x[200])"
   ]
  },
  {
   "cell_type": "code",
   "execution_count": 32,
   "metadata": {
    "colab": {
     "base_uri": "https://localhost:8080/",
     "height": 318
    },
    "colab_type": "code",
    "id": "hVBLnqW-4X5Y",
    "outputId": "d421b1a3-2e1c-4259-9fe3-621d6361fc14"
   },
   "outputs": [
    {
     "name": "stdout",
     "output_type": "stream",
     "text": [
      "converted image:\n",
      "-----------------\n"
     ]
    },
    {
     "data": {
      "text/plain": [
       "<matplotlib.image.AxesImage at 0x7feb82ef9400>"
      ]
     },
     "execution_count": 32,
     "metadata": {
      "tags": []
     },
     "output_type": "execute_result"
    },
    {
     "data": {
      "image/png": "[encoded data removed]",
      "text/plain": [
       "<Figure size 432x288 with 1 Axes>"
      ]
     },
     "metadata": {
      "needs_background": "light",
      "tags": []
     },
     "output_type": "display_data"
    }
   ],
   "source": [
    "print(\"converted image:\")\n",
    "print(\"-----------------\")\n",
    "plt.imshow(x_convert[200])"
   ]
  },
  {
   "cell_type": "code",
   "execution_count": 33,
   "metadata": {
    "colab": {
     "base_uri": "https://localhost:8080/",
     "height": 318
    },
    "colab_type": "code",
    "id": "DHA82-owU-Qt",
    "outputId": "7d43dd90-458c-4cb0-be02-2b19cfd4b740"
   },
   "outputs": [
    {
     "name": "stdout",
     "output_type": "stream",
     "text": [
      "colorful image:\n",
      "-----------------\n"
     ]
    },
    {
     "data": {
      "text/plain": [
       "<matplotlib.image.AxesImage at 0x7feb64e9c2b0>"
      ]
     },
     "execution_count": 33,
     "metadata": {
      "tags": []
     },
     "output_type": "execute_result"
    },
    {
     "data": {
      "image/png": "[encoded data removed]",
      "text/plain": [
       "<Figure size 432x288 with 1 Axes>"
      ]
     },
     "metadata": {
      "needs_background": "light",
      "tags": []
     },
     "output_type": "display_data"
    }
   ],
   "source": [
    "color = np.array([\n",
    "    [0,0,128],\n",
    "    [230,25,75],\n",
    "    [170,255,195],\n",
    "    [255,255,255]], dtype=np.uint8)\n",
    "\n",
    "x_colorful = np.array([color[prediction[i]] for i in range(len(pixels))], dtype=np.uint8).reshape(-1, 32, 32, 3)\n",
    "\n",
    "print(\"colorful image:\")\n",
    "print(\"-----------------\")\n",
    "plt.imshow(x_colorful[200])"
   ]
  },
  {
   "cell_type": "markdown",
   "metadata": {
    "colab_type": "text",
    "id": "I-7kZTNGnzPC"
   },
   "source": [
    "### e)"
   ]
  },
  {
   "cell_type": "code",
   "execution_count": 34,
   "metadata": {
    "colab": {},
    "colab_type": "code",
    "id": "EsGDZ9PQ5N7x"
   },
   "outputs": [],
   "source": [
    "from skimage.color import rgb2gray"
   ]
  },
  {
   "cell_type": "code",
   "execution_count": 35,
   "metadata": {
    "colab": {
     "base_uri": "https://localhost:8080/",
     "height": 318
    },
    "colab_type": "code",
    "id": "kVapPk6S5cM4",
    "outputId": "72f50fd6-a7a4-42a2-97f6-61a1191d0056"
   },
   "outputs": [
    {
     "name": "stdout",
     "output_type": "stream",
     "text": [
      "grayscale image:\n",
      "-----------------\n"
     ]
    },
    {
     "data": {
      "text/plain": [
       "<matplotlib.image.AxesImage at 0x7feb82c9dcf8>"
      ]
     },
     "execution_count": 35,
     "metadata": {
      "tags": []
     },
     "output_type": "execute_result"
    },
    {
     "data": {
      "image/png": "[encoded data removed]",
      "text/plain": [
       "<Figure size 432x288 with 1 Axes>"
      ]
     },
     "metadata": {
      "needs_background": "light",
      "tags": []
     },
     "output_type": "display_data"
    }
   ],
   "source": [
    "x_gray = np.array([rgb2gray(x[i]) for i in range(len(x))])\n",
    "\n",
    "print(\"grayscale image:\")\n",
    "print(\"-----------------\")\n",
    "plt.imshow(x_gray[200], cmap=plt.cm.gray)"
   ]
  },
  {
   "cell_type": "code",
   "execution_count": 36,
   "metadata": {
    "colab": {
     "base_uri": "https://localhost:8080/",
     "height": 35
    },
    "colab_type": "code",
    "id": "xuQ5zbyvMfiu",
    "outputId": "51a67678-a522-4a03-c8fd-3bbbcb25fd08"
   },
   "outputs": [
    {
     "name": "stdout",
     "output_type": "stream",
     "text": [
      "(6000, 32, 32)\n"
     ]
    }
   ],
   "source": [
    "print(x_gray.shape)"
   ]
  },
  {
   "cell_type": "markdown",
   "metadata": {
    "colab_type": "text",
    "id": "D9YYSHCEnzLe"
   },
   "source": [
    "### f)"
   ]
  },
  {
   "cell_type": "code",
   "execution_count": 37,
   "metadata": {
    "colab": {},
    "colab_type": "code",
    "id": "Vh4VM11R7Cx-"
   },
   "outputs": [],
   "source": [
    "from sklearn.preprocessing import OneHotEncoder\n",
    "from sklearn.model_selection import train_test_split"
   ]
  },
  {
   "cell_type": "code",
   "execution_count": 38,
   "metadata": {
    "colab": {},
    "colab_type": "code",
    "id": "1CKGdzwj7CtX"
   },
   "outputs": [],
   "source": [
    "encoder = OneHotEncoder(handle_unknown='ignore')\n",
    "\n",
    "label_real = [[0], [1], [2], [3]]\n",
    "encoder.fit(label_real)\n",
    "label_onehot = encoder.transform(prediction.reshape(-1, 1)).toarray().astype(int).reshape(-1, 32, 32, 4)\n",
    "xtr, xte, ytr, yte = train_test_split(x, label_onehot, test_size=0.2)\n",
    "xtr_gray = np.array([rgb2gray(xtr[i]) for i in range(len(xtr))]).reshape(-1, 32, 32, 1)\n",
    "xte_gray = np.array([rgb2gray(xte[i]) for i in range(len(xte))]).reshape(-1, 32, 32, 1)\n"
   ]
  },
  {
   "cell_type": "code",
   "execution_count": 39,
   "metadata": {
    "colab": {
     "base_uri": "https://localhost:8080/",
     "height": 52
    },
    "colab_type": "code",
    "id": "ojGNc34n7Cmq",
    "outputId": "634924cb-d14b-483f-c174-e4b4230c1ac4"
   },
   "outputs": [
    {
     "name": "stdout",
     "output_type": "stream",
     "text": [
      "shape of traning data: (4800, 32, 32, 1) (4800, 32, 32, 4)\n",
      "shape of test data: (1200, 32, 32, 1) (1200, 32, 32, 4)\n"
     ]
    }
   ],
   "source": [
    "print(\"shape of traning data:\", xtr_gray.shape, ytr.shape)\n",
    "print(\"shape of test data:\", xte_gray.shape, yte.shape)"
   ]
  },
  {
   "cell_type": "code",
   "execution_count": 40,
   "metadata": {
    "colab": {},
    "colab_type": "code",
    "id": "eltT-0sF9TqN"
   },
   "outputs": [],
   "source": [
    "from tensorflow.keras import layers\n",
    "from tensorflow.keras import models\n",
    "from tensorflow.keras import optimizers"
   ]
  },
  {
   "cell_type": "code",
   "execution_count": 41,
   "metadata": {
    "colab": {},
    "colab_type": "code",
    "id": "r7oWmwaw9Khh"
   },
   "outputs": [],
   "source": [
    "model = models.Sequential()\n",
    "\n",
    "model.add(layers.Conv2D(filters=64, kernel_size=(5,5), strides=(1, 1), padding='same', input_shape=(32,32,1)))\n",
    "model.add(layers.MaxPooling2D(pool_size=(2, 2), strides=(1, 1), padding='same'))\n",
    "\n",
    "model.add(layers.Conv2D(filters=64, kernel_size=(5,5), strides=(1, 1), padding='same', activation='relu'))\n",
    "model.add(layers.MaxPooling2D(pool_size=(2, 2), strides=(1, 1), padding='same'))\n",
    "\n",
    "model.add(layers.Dense(32, activation=\"relu\"))\n",
    "model.add(layers.Dense(4, activation=\"softmax\"))"
   ]
  },
  {
   "cell_type": "code",
   "execution_count": 42,
   "metadata": {
    "colab": {
     "base_uri": "https://localhost:8080/",
     "height": 364
    },
    "colab_type": "code",
    "id": "WCc2pkEq8Orq",
    "outputId": "1582074c-f547-474c-c954-a8519fe4f577"
   },
   "outputs": [
    {
     "name": "stdout",
     "output_type": "stream",
     "text": [
      "Model: \"sequential_1\"\n",
      "_________________________________________________________________\n",
      "Layer (type)                 Output Shape              Param #   \n",
      "=================================================================\n",
      "conv2d (Conv2D)              (None, 32, 32, 64)        1664      \n",
      "_________________________________________________________________\n",
      "max_pooling2d (MaxPooling2D) (None, 32, 32, 64)        0         \n",
      "_________________________________________________________________\n",
      "conv2d_1 (Conv2D)            (None, 32, 32, 64)        102464    \n",
      "_________________________________________________________________\n",
      "max_pooling2d_1 (MaxPooling2 (None, 32, 32, 64)        0         \n",
      "_________________________________________________________________\n",
      "dense_1 (Dense)              (None, 32, 32, 32)        2080      \n",
      "_________________________________________________________________\n",
      "dense_2 (Dense)              (None, 32, 32, 4)         132       \n",
      "=================================================================\n",
      "Total params: 106,340\n",
      "Trainable params: 106,340\n",
      "Non-trainable params: 0\n",
      "_________________________________________________________________\n"
     ]
    }
   ],
   "source": [
    "model.compile(optimizer=optimizers.SGD(0.001), loss='categorical_crossentropy', metrics=[\"accuracy\"])\n",
    "model.summary()"
   ]
  },
  {
   "cell_type": "code",
   "execution_count": 43,
   "metadata": {
    "colab": {
     "base_uri": "https://localhost:8080/",
     "height": 1000
    },
    "colab_type": "code",
    "id": "MR8Qjzpz_upJ",
    "outputId": "ecae1677-0edd-4c6d-f51d-0dfe3c2ddd47"
   },
   "outputs": [
    {
     "name": "stdout",
     "output_type": "stream",
     "text": [
      "Epoch 1/30\n",
      "150/150 [==============================] - 4s 23ms/step - loss: 1.3586 - accuracy: 0.3367 - val_loss: 1.3472 - val_accuracy: 0.3216\n",
      "Epoch 2/30\n",
      "150/150 [==============================] - 3s 21ms/step - loss: 1.3392 - accuracy: 0.3208 - val_loss: 1.3344 - val_accuracy: 0.3212\n",
      "Epoch 3/30\n",
      "150/150 [==============================] - 3s 21ms/step - loss: 1.3284 - accuracy: 0.3260 - val_loss: 1.3258 - val_accuracy: 0.3272\n",
      "Epoch 4/30\n",
      "150/150 [==============================] - 3s 21ms/step - loss: 1.3203 - accuracy: 0.3321 - val_loss: 1.3182 - val_accuracy: 0.3467\n",
      "Epoch 5/30\n",
      "150/150 [==============================] - 3s 21ms/step - loss: 1.3128 - accuracy: 0.3544 - val_loss: 1.3107 - val_accuracy: 0.3611\n",
      "Epoch 6/30\n",
      "150/150 [==============================] - 3s 21ms/step - loss: 1.3049 - accuracy: 0.3766 - val_loss: 1.3023 - val_accuracy: 0.3877\n",
      "Epoch 7/30\n",
      "150/150 [==============================] - 3s 21ms/step - loss: 1.2964 - accuracy: 0.4033 - val_loss: 1.2937 - val_accuracy: 0.4046\n",
      "Epoch 8/30\n",
      "150/150 [==============================] - 3s 21ms/step - loss: 1.2876 - accuracy: 0.4167 - val_loss: 1.2846 - val_accuracy: 0.4244\n",
      "Epoch 9/30\n",
      "150/150 [==============================] - 3s 21ms/step - loss: 1.2784 - accuracy: 0.4323 - val_loss: 1.2750 - val_accuracy: 0.4367\n",
      "Epoch 10/30\n",
      "150/150 [==============================] - 3s 22ms/step - loss: 1.2686 - accuracy: 0.4420 - val_loss: 1.2649 - val_accuracy: 0.4487\n",
      "Epoch 11/30\n",
      "150/150 [==============================] - 3s 22ms/step - loss: 1.2582 - accuracy: 0.4546 - val_loss: 1.2538 - val_accuracy: 0.4584\n",
      "Epoch 12/30\n",
      "150/150 [==============================] - 3s 21ms/step - loss: 1.2467 - accuracy: 0.4651 - val_loss: 1.2417 - val_accuracy: 0.4677\n",
      "Epoch 13/30\n",
      "150/150 [==============================] - 3s 21ms/step - loss: 1.2341 - accuracy: 0.4749 - val_loss: 1.2280 - val_accuracy: 0.4837\n",
      "Epoch 14/30\n",
      "150/150 [==============================] - 3s 21ms/step - loss: 1.2201 - accuracy: 0.4890 - val_loss: 1.2138 - val_accuracy: 0.4982\n",
      "Epoch 15/30\n",
      "150/150 [==============================] - 3s 21ms/step - loss: 1.2055 - accuracy: 0.5010 - val_loss: 1.1982 - val_accuracy: 0.5084\n",
      "Epoch 16/30\n",
      "150/150 [==============================] - 3s 21ms/step - loss: 1.1888 - accuracy: 0.5125 - val_loss: 1.1801 - val_accuracy: 0.5212\n",
      "Epoch 17/30\n",
      "150/150 [==============================] - 3s 21ms/step - loss: 1.1705 - accuracy: 0.5241 - val_loss: 1.1613 - val_accuracy: 0.5327\n",
      "Epoch 18/30\n",
      "150/150 [==============================] - 3s 21ms/step - loss: 1.1515 - accuracy: 0.5365 - val_loss: 1.1414 - val_accuracy: 0.5448\n",
      "Epoch 19/30\n",
      "150/150 [==============================] - 3s 21ms/step - loss: 1.1311 - accuracy: 0.5488 - val_loss: 1.1202 - val_accuracy: 0.5560\n",
      "Epoch 20/30\n",
      "150/150 [==============================] - 3s 21ms/step - loss: 1.1094 - accuracy: 0.5611 - val_loss: 1.0976 - val_accuracy: 0.5666\n",
      "Epoch 21/30\n",
      "150/150 [==============================] - 3s 21ms/step - loss: 1.0865 - accuracy: 0.5721 - val_loss: 1.0739 - val_accuracy: 0.5791\n",
      "Epoch 22/30\n",
      "150/150 [==============================] - 3s 22ms/step - loss: 1.0624 - accuracy: 0.5840 - val_loss: 1.0489 - val_accuracy: 0.5895\n",
      "Epoch 23/30\n",
      "150/150 [==============================] - 3s 21ms/step - loss: 1.0371 - accuracy: 0.5946 - val_loss: 1.0229 - val_accuracy: 0.5991\n",
      "Epoch 24/30\n",
      "150/150 [==============================] - 3s 21ms/step - loss: 1.0109 - accuracy: 0.6051 - val_loss: 0.9960 - val_accuracy: 0.6160\n",
      "Epoch 25/30\n",
      "150/150 [==============================] - 3s 21ms/step - loss: 0.9841 - accuracy: 0.6252 - val_loss: 0.9688 - val_accuracy: 0.6350\n",
      "Epoch 26/30\n",
      "150/150 [==============================] - 3s 22ms/step - loss: 0.9572 - accuracy: 0.6433 - val_loss: 0.9416 - val_accuracy: 0.6520\n",
      "Epoch 27/30\n",
      "150/150 [==============================] - 3s 21ms/step - loss: 0.9302 - accuracy: 0.6617 - val_loss: 0.9145 - val_accuracy: 0.6667\n",
      "Epoch 28/30\n",
      "150/150 [==============================] - 3s 21ms/step - loss: 0.9037 - accuracy: 0.6742 - val_loss: 0.8879 - val_accuracy: 0.6882\n",
      "Epoch 29/30\n",
      "150/150 [==============================] - 3s 21ms/step - loss: 0.8781 - accuracy: 0.6888 - val_loss: 0.8627 - val_accuracy: 0.6918\n",
      "Epoch 30/30\n",
      "150/150 [==============================] - 3s 21ms/step - loss: 0.8534 - accuracy: 0.6966 - val_loss: 0.8381 - val_accuracy: 0.7118\n"
     ]
    }
   ],
   "source": [
    "results = model.fit(xtr_gray, ytr, epochs=30, validation_data=(xte_gray, yte))"
   ]
  },
  {
   "cell_type": "code",
   "execution_count": 44,
   "metadata": {
    "colab": {
     "base_uri": "https://localhost:8080/",
     "height": 279
    },
    "colab_type": "code",
    "id": "lGi5jmYpAGV4",
    "outputId": "6a19ae7f-d638-48a0-aebe-938b0b67b42b"
   },
   "outputs": [
    {
     "data": {
      "image/png": "[encoded data removed]",
      "text/plain": [
       "<Figure size 432x288 with 1 Axes>"
      ]
     },
     "metadata": {
      "needs_background": "light",
      "tags": []
     },
     "output_type": "display_data"
    }
   ],
   "source": [
    "loss = results.history['loss']\n",
    "val_loss = results.history['val_loss']\n",
    "acc = results.history['accuracy']\n",
    "val_acc = results.history['val_accuracy']\n",
    "\n",
    "epochs = np.arange(len(loss))\n",
    "\n",
    "\n",
    "plt.figure()\n",
    "plt.plot(epochs, loss, label='loss')\n",
    "plt.plot(epochs, val_loss, label='val_loss')\n",
    "plt.xlabel('epochs')\n",
    "plt.ylabel('Cross Entropy Loss')\n",
    "plt.legend()\n",
    "plt.show()"
   ]
  },
  {
   "cell_type": "code",
   "execution_count": 45,
   "metadata": {
    "colab": {},
    "colab_type": "code",
    "id": "QZ5OSxRjC0ld"
   },
   "outputs": [],
   "source": [
    "prediction = model.predict(xte_gray)\n",
    "prediction = prediction.reshape(xte_gray.shape[0] * 32 * 32, 4)\n",
    "\n",
    "image_out = []\n",
    "for index in range(len(prediction)):\n",
    "    image_out.append([int(color) for color in center[np.argmax(prediction[index])]])\n",
    "    \n",
    "image_out = np.reshape(image_out, (-1, 32, 32, 3))"
   ]
  },
  {
   "cell_type": "code",
   "execution_count": 46,
   "metadata": {
    "colab": {
     "base_uri": "https://localhost:8080/",
     "height": 1000
    },
    "colab_type": "code",
    "id": "OMk5v-reC6I9",
    "outputId": "a2959ed9-b8cc-4540-ca95-9d7d5fad861e"
   },
   "outputs": [
    {
     "data": {
      "image/png": "[encoded data removed]",
      "text/plain": [
       "<Figure size 648x2160 with 30 Axes>"
      ]
     },
     "metadata": {
      "needs_background": "light",
      "tags": []
     },
     "output_type": "display_data"
    }
   ],
   "source": [
    "fig, axes = plt.subplots(10, 3, figsize=(9, 30))\n",
    "ax = axes.ravel()\n",
    "\n",
    "for i in range(10):\n",
    "  ax[3*i].imshow(xte[i])\n",
    "  ax[3*i+1].imshow(xte_gray.reshape(-1,32,32)[i], cmap=plt.cm.gray)\n",
    "  ax[3*i+2].imshow(image_out[i])\n",
    "\n",
    "ax[0].set_title(\"Colored_input\")\n",
    "ax[1].set_title(\"grayscale_input\")\n",
    "ax[2].set_title(\"Colored_output\")\n",
    "\n",
    "\n",
    "plt.show()"
   ]
  },
  {
   "cell_type": "markdown",
   "metadata": {
    "colab_type": "text",
    "id": "PwKJ90NLn8RX"
   },
   "source": [
    "### g)"
   ]
  },
  {
   "cell_type": "code",
   "execution_count": 46,
   "metadata": {
    "colab": {},
    "colab_type": "code",
    "id": "dA-90wQEnAKb"
   },
   "outputs": [],
   "source": []
  }
 ],
 "metadata": {
  "accelerator": "GPU",
  "colab": {
   "collapsed_sections": [],
   "name": "Tianyi_Zhang_inf552_hw7.ipynb",
   "provenance": [],
   "toc_visible": true
  },
  "kernelspec": {
   "display_name": "Python 3",
   "language": "python",
   "name": "python3"
  },
  "language_info": {
   "codemirror_mode": {
    "name": "ipython",
    "version": 3
   },
   "file_extension": ".py",
   "mimetype": "text/x-python",
   "name": "python",
   "nbconvert_exporter": "python",
   "pygments_lexer": "ipython3",
   "version": "3.7.4"
  }
 },
 "nbformat": 4,
 "nbformat_minor": 1
}
